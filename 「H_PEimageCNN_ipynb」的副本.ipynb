{
  "nbformat": 4,
  "nbformat_minor": 0,
  "metadata": {
    "colab": {
      "name": "「H-PEimageCNN.ipynb」的副本",
      "provenance": [],
      "collapsed_sections": [],
      "toc_visible": true
    },
    "kernelspec": {
      "name": "python3",
      "display_name": "Python 3"
    }
  },
  "cells": [
    {
      "cell_type": "markdown",
      "metadata": {
        "id": "njbVq0jShEBz"
      },
      "source": [
        "# Using CNN to classifiy malicious PE files into malware family\n",
        "\n",
        "Please take a careful look at the following tutorial.\n",
        "\n",
        "https://www.tensorflow.org/tutorials/keras/classification\n",
        "\n",
        "It is an example of using tensorflow/keras to build a simple neural network to classify images of clothing. The images are 28x28 NumPy arrays, with pixel values ranging from 0 to 255. The labels are an array of integers, ranging from 0 to 9.\n",
        "\n",
        "Please write your homework by modifying this tutorial. We will provide you the first 748 bytes of several PE files and their corresponding class labels (just like the example in the tutorial). Please desgin a more complicated neural network (e.g., using convolution, pooling, dense, dropout, dense, softmax, ...) to increase the classification accuracy."
      ]
    },
    {
      "cell_type": "code",
      "metadata": {
        "id": "LYDFyLIgkYRZ",
        "colab": {
          "base_uri": "https://localhost:8080/"
        },
        "outputId": "5561ff10-4bb0-4be4-d3df-80de48cb242d"
      },
      "source": [
        "# TensorFlow and tf.keras\n",
        "import tensorflow as tf\n",
        "from tensorflow import keras\n",
        "\n",
        "# Helper libraries\n",
        "import numpy as np\n",
        "import pandas as pd\n",
        "import matplotlib.pyplot as plt\n",
        "\n",
        "print(tf.__version__)"
      ],
      "execution_count": null,
      "outputs": [
        {
          "output_type": "stream",
          "name": "stdout",
          "text": [
            "2.8.0\n"
          ]
        }
      ]
    },
    {
      "cell_type": "markdown",
      "metadata": {
        "id": "PDNaCNOSjDgH"
      },
      "source": [
        "### Get pefiles\n",
        "\n"
      ]
    },
    {
      "cell_type": "code",
      "metadata": {
        "id": "fVDAjk_Hg_Yu",
        "colab": {
          "base_uri": "https://localhost:8080/"
        },
        "outputId": "446ac19e-f7f9-4e69-d933-d765d31da960"
      },
      "source": [
        "!wget https://drive.google.com/uc?id=1Vm3K0F8LdtvEh-8GoDtJELu5Qo179aVw -O pefiles.pickle"
      ],
      "execution_count": null,
      "outputs": [
        {
          "output_type": "stream",
          "name": "stdout",
          "text": [
            "--2022-05-08 05:17:10--  https://drive.google.com/uc?id=1Vm3K0F8LdtvEh-8GoDtJELu5Qo179aVw\n",
            "Resolving drive.google.com (drive.google.com)... 142.251.8.113, 142.251.8.139, 142.251.8.102, ...\n",
            "Connecting to drive.google.com (drive.google.com)|142.251.8.113|:443... connected.\n",
            "HTTP request sent, awaiting response... 303 See Other\n",
            "Location: https://doc-0c-38-docs.googleusercontent.com/docs/securesc/ha0ro937gcuc7l7deffksulhg5h7mbp1/0vj5d6b5co4qgjhra4inulb4b2r73t0o/1651986975000/17174434063503717705/*/1Vm3K0F8LdtvEh-8GoDtJELu5Qo179aVw [following]\n",
            "Warning: wildcards not supported in HTTP.\n",
            "--2022-05-08 05:17:14--  https://doc-0c-38-docs.googleusercontent.com/docs/securesc/ha0ro937gcuc7l7deffksulhg5h7mbp1/0vj5d6b5co4qgjhra4inulb4b2r73t0o/1651986975000/17174434063503717705/*/1Vm3K0F8LdtvEh-8GoDtJELu5Qo179aVw\n",
            "Resolving doc-0c-38-docs.googleusercontent.com (doc-0c-38-docs.googleusercontent.com)... 64.233.189.132, 2404:6800:4008:c07::84\n",
            "Connecting to doc-0c-38-docs.googleusercontent.com (doc-0c-38-docs.googleusercontent.com)|64.233.189.132|:443... connected.\n",
            "HTTP request sent, awaiting response... 200 OK\n",
            "Length: 282207 (276K) [application/octet-stream]\n",
            "Saving to: ‘pefiles.pickle’\n",
            "\n",
            "pefiles.pickle      100%[===================>] 275.59K  --.-KB/s    in 0.004s  \n",
            "\n",
            "2022-05-08 05:17:15 (67.3 MB/s) - ‘pefiles.pickle’ saved [282207/282207]\n",
            "\n"
          ]
        }
      ]
    },
    {
      "cell_type": "code",
      "metadata": {
        "id": "xZHA0VTPjKY1",
        "colab": {
          "base_uri": "https://localhost:8080/"
        },
        "outputId": "9a2e82f6-9b18-4c3f-eb3e-812bc70d4ccc"
      },
      "source": [
        "!ls -al"
      ],
      "execution_count": null,
      "outputs": [
        {
          "output_type": "stream",
          "name": "stdout",
          "text": [
            "total 292\n",
            "drwxr-xr-x 1 root root   4096 May  8 05:17 .\n",
            "drwxr-xr-x 1 root root   4096 May  8 05:15 ..\n",
            "drwxr-xr-x 4 root root   4096 May  3 13:41 .config\n",
            "-rw-r--r-- 1 root root 282207 May  8 05:17 pefiles.pickle\n",
            "drwxr-xr-x 1 root root   4096 May  3 13:42 sample_data\n"
          ]
        }
      ]
    },
    {
      "cell_type": "markdown",
      "metadata": {
        "id": "-hUYU--mjpHD"
      },
      "source": [
        "### load training data"
      ]
    },
    {
      "cell_type": "code",
      "metadata": {
        "id": "ZxzLOj1vjw0H"
      },
      "source": [
        "import pickle\n",
        "\n",
        "def my_load_data(p):\n",
        "  with open(p, 'rb') as fd:\n",
        "    tu = pickle.load(fd)\n",
        "  return (tu[0], tu[1])"
      ],
      "execution_count": null,
      "outputs": []
    },
    {
      "cell_type": "code",
      "metadata": {
        "id": "iRRI5NE-jMmh"
      },
      "source": [
        "(train_images, train_labels) = my_load_data(\"/content/pefiles.pickle\")"
      ],
      "execution_count": null,
      "outputs": []
    },
    {
      "cell_type": "code",
      "metadata": {
        "id": "bgqyrpLOkqZx"
      },
      "source": [
        "# now go https://www.tensorflow.org/tutorials/keras/classification\n",
        "# and try to understand the tutorial\n",
        "# and write your code below.\n",
        "# My codes is very similar to the tutorial."
      ],
      "execution_count": null,
      "outputs": []
    },
    {
      "cell_type": "code",
      "metadata": {
        "id": "qxZ4y3Pdk7Ig",
        "colab": {
          "base_uri": "https://localhost:8080/"
        },
        "outputId": "b8fe9521-7968-483e-f553-f972458b8693"
      },
      "source": [
        "# our data includes 11 different malware families\n",
        "class_names = ['Urausy.C', 'Elkern.B', 'Fareit', 'Hotbar', 'Gepys.A', 'Bulta!rfn', 'Zbot',\n",
        "               'GameVance', 'Zegost.B', 'Bifrose.AE', 'Zbot!GO']\n",
        "len_classes = len(class_names)\n",
        "\n",
        "print(len_classes)"
      ],
      "execution_count": null,
      "outputs": [
        {
          "output_type": "stream",
          "name": "stdout",
          "text": [
            "11\n"
          ]
        }
      ]
    },
    {
      "cell_type": "markdown",
      "metadata": {
        "id": "V9Ncbl6IlUh1"
      },
      "source": [
        "### Explore the data"
      ]
    },
    {
      "cell_type": "code",
      "metadata": {
        "id": "ZnphVAxKlVJH",
        "colab": {
          "base_uri": "https://localhost:8080/"
        },
        "outputId": "1b474ad1-e103-495a-958c-00b112965e87"
      },
      "source": [
        "# We have 356 malware pefiles, and each of them represented as a 28x28 byte array.\n",
        "train_images.shape"
      ],
      "execution_count": null,
      "outputs": [
        {
          "output_type": "execute_result",
          "data": {
            "text/plain": [
              "(356, 28, 28)"
            ]
          },
          "metadata": {},
          "execution_count": 7
        }
      ]
    },
    {
      "cell_type": "code",
      "metadata": {
        "id": "kFVRbQCFlZdd",
        "colab": {
          "base_uri": "https://localhost:8080/"
        },
        "outputId": "07f4ee9f-2794-45d3-9615-571cb06228b3"
      },
      "source": [
        "# The lenght of the label is 356 as well.\n",
        "len(train_labels)"
      ],
      "execution_count": null,
      "outputs": [
        {
          "output_type": "execute_result",
          "data": {
            "text/plain": [
              "356"
            ]
          },
          "metadata": {},
          "execution_count": 8
        }
      ]
    },
    {
      "cell_type": "code",
      "metadata": {
        "id": "qiaQHLfKlmrP",
        "colab": {
          "base_uri": "https://localhost:8080/"
        },
        "outputId": "3f56f940-7750-40c9-af22-7e34ffa76d34"
      },
      "source": [
        "# Each label is an integer.\n",
        "# The 1st malware's label is 5.\n",
        "# It stands for that the 1st malware belongs to 'Bulta!rfn' family.\n",
        "# See class_names. Its index starts from 0. \n",
        "train_labels"
      ],
      "execution_count": null,
      "outputs": [
        {
          "output_type": "execute_result",
          "data": {
            "text/plain": [
              "array([ 5,  4,  2,  6,  3,  7,  2,  3,  0,  2,  2,  3,  7,  3,  3,  3,  2,\n",
              "        2,  7,  9,  5,  1,  4, 10,  2,  4,  0,  6,  2,  6,  2,  3,  4,  2,\n",
              "        2,  2,  6, 10,  2,  3,  2,  0,  2,  3,  4,  0, 10,  3,  2,  4,  2,\n",
              "        2,  2,  9,  2,  5,  0,  5,  4,  3,  0,  2,  3,  3,  2,  3,  1,  2,\n",
              "        0,  4,  3,  4,  3,  2,  3,  1,  4,  2,  0,  1,  6,  4,  3,  4,  2,\n",
              "        3,  2,  5,  7,  2,  3,  3,  8,  5,  6,  4,  4,  0,  3,  6,  0,  3,\n",
              "        7,  4,  9,  6,  2,  3,  4,  4,  1,  2, 10,  4, 10,  4,  3,  6,  8,\n",
              "        4,  0,  0,  0,  9,  3,  4,  1,  2,  0,  2, 10,  3,  2,  3,  2,  2,\n",
              "        4,  3,  3,  4,  2,  3,  2,  0,  8,  6,  2,  2, 10,  3,  0,  4,  5,\n",
              "        5,  0,  3,  9,  9,  2,  0,  1,  5,  0,  6,  6,  6,  3,  9,  6, 10,\n",
              "        3,  6,  8,  2,  4,  0,  3,  3,  6,  5,  4,  4,  4,  2,  3,  1,  1,\n",
              "       10,  3,  3,  5,  3,  2,  6,  3,  8,  2,  2,  0,  0,  7,  2,  3,  3,\n",
              "        1,  9,  4,  0,  3,  3,  0,  7,  4,  2,  5,  5, 10,  8,  6,  4,  0,\n",
              "        3,  4,  4,  2,  0,  2,  2,  7,  3, 10,  3,  3,  5,  4,  6,  0,  3,\n",
              "        2,  7,  2,  0,  1,  2,  2,  3,  3,  6,  6,  0,  5,  0,  4,  5,  2,\n",
              "        3,  3,  2,  2,  2,  3,  2,  3,  7,  7,  2,  7,  2,  4,  3,  4,  2,\n",
              "        2,  3,  2,  2,  1,  0,  6,  4,  3,  2,  2,  0,  6,  2, 10,  5, 10,\n",
              "        4,  3,  4,  0,  2,  3,  2,  2,  9,  0,  2,  6,  1,  2,  0,  0,  1,\n",
              "        6,  6,  4,  5,  4,  2,  3,  9,  5,  4,  0,  3,  2,  8,  3,  3,  2,\n",
              "        0,  0,  3,  0,  6,  5,  0,  2,  2,  0,  0,  6,  0,  8,  3,  7,  2,\n",
              "        6,  0,  0,  4,  3,  6,  3,  5,  3,  0,  3,  8,  3,  2,  3,  2])"
            ]
          },
          "metadata": {},
          "execution_count": 9
        }
      ]
    },
    {
      "cell_type": "code",
      "metadata": {
        "id": "Wbcbt1D0lvjQ",
        "colab": {
          "base_uri": "https://localhost:8080/"
        },
        "outputId": "51e69df9-7cd7-4963-e3ca-96b63d35afd0"
      },
      "source": [
        "# An example of first (indexed by 0) PE files.\n",
        "# It is a 28x28 integer matrix.\n",
        "train_images[0]"
      ],
      "execution_count": null,
      "outputs": [
        {
          "output_type": "execute_result",
          "data": {
            "text/plain": [
              "array([[ 77,  90,  80,   0,   2,   0,   0,   0,   0,   0,  15,   0, 255,\n",
              "        255,   0,   0,   0,   0,   0,   0,   0,   0,   0,   0,  64,   0,\n",
              "         26,   0],\n",
              "       [  0,   0,   0,   0,   0,   0,   0,   0,   0,   0,   0,   0,   0,\n",
              "          0,   0,   0,   0,   0,   0,   0,   0,   0,   0,   0,   0,   0,\n",
              "          0,   0],\n",
              "       [  0,   0,   0,   0, 124,   0,   0,   0, 186,  16,   0,  14,  31,\n",
              "        180,   9, 205,  33, 184,   1,  76, 205,  33, 144, 144,  84, 104,\n",
              "        105, 115],\n",
              "       [ 32, 112, 114, 111, 103, 114,  97, 109,  32, 109, 117, 115, 116,\n",
              "         32,  98, 101,  32, 114, 117, 110,  32, 117, 110, 100, 101, 114,\n",
              "         32,  87],\n",
              "       [105, 110,  51,  50,  13,  10,  36,  55,   0,   0,   0,   0,  80,\n",
              "         69,   0,   0,  76,   1,   4,   0, 254, 114,  22,  79,   0,   0,\n",
              "          0,   0],\n",
              "       [  0,   0,   0,   0, 224,   0,  15,   1,  11,   1,  10,   0,   0,\n",
              "         22,   0,   0,   0, 184,   5,   0,   0,   0,   0,   0, 180,  20,\n",
              "          0,   0],\n",
              "       [  0,  16,   0,   0,   0,  48,   0,   0,   0,   0,  64,   0,   0,\n",
              "         16,   0,   0,   0,   2,   0,   0,   4,   0,   0,   0,   0,   0,\n",
              "          0,   0],\n",
              "       [  4,   0,   0,   0,   0,   0,   0,   0,   0, 144,  12,   0,   0,\n",
              "          4,   0,   0,   0,   0,   0,   0,   2,   0,   0,   0,   0,   0,\n",
              "         16,   0],\n",
              "       [  0,  16,   0,   0,   0,   0,  16,   0,   0,  16,   0,   0,   0,\n",
              "          0,   0,   0,  16,   0,   0,   0,  68,  30,   0,   0,  28,   0,\n",
              "          0,   0],\n",
              "       [176,  48,   0,   0, 120,   0,   0,   0,   0, 224,   6,   0, 110,\n",
              "        170,   5,   0,   0,   0,   0,   0,   0,   0,   0,   0,   0,   0,\n",
              "          0,   0],\n",
              "       [  0,   0,   0,   0,   0,   0,   0,   0,   0,   0,   0,   0,   0,\n",
              "          0,   0,   0,   0,   0,   0,   0,   0,   0,   0,   0,   0,   0,\n",
              "          0,   0],\n",
              "       [  0,   0,   0,   0,   0,   0,   0,   0,   0,   0,   0,   0,   0,\n",
              "          0,   0,   0,   0,   0,   0,   0,   0,   0,   0,   0,   0,   0,\n",
              "          0,   0],\n",
              "       [  0,   0,   0,   0,   0,   0,   0,   0,   0,   0,   0,   0,   0,\n",
              "          0,   0,   0,   0,   0,   0,   0,   0,   0,   0,   0,   0,   0,\n",
              "          0,   0],\n",
              "       [  0,   0,   0,   0,   0,   0,   0,   0,  46, 116, 101, 120, 116,\n",
              "          0,   0,   0,  64,  21,   0,   0,   0,  16,   0,   0,   0,  22,\n",
              "          0,   0],\n",
              "       [  0,   4,   0,   0,   0,   0,   0,   0,   0,   0,   0,   0,   0,\n",
              "          0,   0,   0,  32,   0,   0,  96,  46, 114, 100,  97, 116,  97,\n",
              "          0,   0],\n",
              "       [  0, 160,   6,   0,   0,  48,   0,   0,   0,   6,   0,   0,   0,\n",
              "         26,   0,   0,   0,   0,   0,   0,   0,   0,   0,   0,   0,   0,\n",
              "          0,   0],\n",
              "       [ 64,   0,   0, 192,  46, 100,  97, 116,  97,   0,   0,   0,  10,\n",
              "          4,   0,   0,   0, 208,   6,   0,   0,   6,   0,   0,   0,  32,\n",
              "          0,   0],\n",
              "       [  0,   0,   0,   0,   0,   0,   0,   0,   0,   0,   0,   0,  64,\n",
              "          0,   0, 192,  46, 114, 115, 114,  99,   0,   0,   0, 110, 170,\n",
              "          5,   0],\n",
              "       [  0, 224,   6,   0,   0, 172,   5,   0,   0,  38,   0,   0,   0,\n",
              "          0,   0,   0,   0,   0,   0,   0,   0,   0,   0,   0,  64,   0,\n",
              "          0,  64],\n",
              "       [  0,   0,   0,   0,   0,   0,   0,   0,   0,   0,   0,   0,   0,\n",
              "          0,   0,   0,   0,   0,   0,   0,   0,   0,   0,   0,   0,   0,\n",
              "          0,   0],\n",
              "       [  0,   0,   0,   0,   0,   0,   0,   0,   0,   0,   0,   0,   0,\n",
              "          0,   0,   0,   0,   0,   0,   0,   0,   0,   0,   0,   0,   0,\n",
              "          0,   0],\n",
              "       [  0,   0,   0,   0,   0,   0,   0,   0,   0,   0,   0,   0,   0,\n",
              "          0,   0,   0,   0,   0,   0,   0,   0,   0,   0,   0,   0,   0,\n",
              "          0,   0],\n",
              "       [  0,   0,   0,   0,   0,   0,   0,   0,   0,   0,   0,   0,   0,\n",
              "          0,   0,   0,   0,   0,   0,   0,   0,   0,   0,   0,   0,   0,\n",
              "          0,   0],\n",
              "       [  0,   0,   0,   0,   0,   0,   0,   0,   0,   0,   0,   0,   0,\n",
              "          0,   0,   0,   0,   0,   0,   0,   0,   0,   0,   0,   0,   0,\n",
              "          0,   0],\n",
              "       [  0,   0,   0,   0,   0,   0,   0,   0,   0,   0,   0,   0,   0,\n",
              "          0,   0,   0,   0,   0,   0,   0,   0,   0,   0,   0,   0,   0,\n",
              "          0,   0],\n",
              "       [  0,   0,   0,   0,   0,   0,   0,   0,   0,   0,   0,   0,   0,\n",
              "          0,   0,   0,   0,   0,   0,   0,   0,   0,   0,   0,   0,   0,\n",
              "          0,   0],\n",
              "       [  0,   0,   0,   0,   0,   0,   0,   0,   0,   0,   0,   0,   0,\n",
              "          0,   0,   0,   0,   0,   0,   0,   0,   0,   0,   0,   0,   0,\n",
              "          0,   0],\n",
              "       [  0,   0,   0,   0,   0,   0,   0,   0,   0,   0,   0,   0,   0,\n",
              "          0,   0,   0,   0,   0,   0,   0,   0,   0,   0,   0,   0,   0,\n",
              "          0,   0]], dtype=uint8)"
            ]
          },
          "metadata": {},
          "execution_count": 10
        }
      ]
    },
    {
      "cell_type": "markdown",
      "metadata": {
        "id": "EdwrMKuhnRPV"
      },
      "source": [
        "### Preprocess the data"
      ]
    },
    {
      "cell_type": "code",
      "metadata": {
        "id": "mM8aua7tmOT7",
        "colab": {
          "base_uri": "https://localhost:8080/",
          "height": 265
        },
        "outputId": "4630c1fc-6413-4b31-dd7a-9940e0c3c08d"
      },
      "source": [
        "plt.figure()\n",
        "plt.imshow(train_images[0])\n",
        "plt.colorbar()\n",
        "plt.grid(False)\n",
        "plt.show()\n",
        "\n",
        "\n",
        "# Note that we can view the first 28x28 bytes of a PE file as an image.\n",
        "# A byte with value 0 (or '0x00') has darkest color,\n",
        "# whilw a byte with value 255 (or '0xFF') has brightest color.\n",
        "# Below is the visualization of the first PE file."
      ],
      "execution_count": null,
      "outputs": [
        {
          "output_type": "display_data",
          "data": {
            "text/plain": [
              "<Figure size 432x288 with 2 Axes>"
            ],
            "image/png": "[encoded data removed]"
          },
          "metadata": {
            "needs_background": "light"
          }
        }
      ]
    },
    {
      "cell_type": "code",
      "metadata": {
        "id": "pldW7dpcnfkh",
        "colab": {
          "base_uri": "https://localhost:8080/",
          "height": 589
        },
        "outputId": "8ea8bb47-86c6-4eb6-b839-bed0685e21a2"
      },
      "source": [
        "# Here are the examples of 36 PE files,\n",
        "# presented as 28x28 images.\n",
        "# However, I use 'plt.cm.binary' to show only grey-scale color.\n",
        "# You may try the following page to change to other colors.\n",
        "# https://matplotlib.org/stable/tutorials/colors/colormaps.html\n",
        "\n",
        "plt.figure(figsize=(10,10))\n",
        "for i in range(36):\n",
        "    plt.subplot(6,6,i+1)\n",
        "    plt.xticks([])\n",
        "    plt.yticks([])\n",
        "    plt.grid(False)\n",
        "    plt.imshow(train_images[i], cmap=plt.cm.binary)\n",
        "    plt.xlabel(class_names[train_labels[i]])\n",
        "plt.show()"
      ],
      "execution_count": null,
      "outputs": [
        {
          "output_type": "display_data",
          "data": {
            "text/plain": [
              "<Figure size 720x720 with 36 Axes>"
            ],
            "image/png": "[encoded data removed]"
          },
          "metadata": {}
        }
      ]
    },
    {
      "cell_type": "markdown",
      "metadata": {
        "id": "Snw_N4mtoSkv"
      },
      "source": [
        "The above images are samples of different PE files. Could you visually distinguish them? Their labels are shown under each of the image.\n",
        "\n",
        "Q1: Before building the model, if there is anything you can do to the data, do it right here.\n"
      ]
    },
    {
      "cell_type": "code",
      "metadata": {
        "id": "JISk0HUfoH6U"
      },
      "source": [
        "# Any preprocessing?\n",
        "train_images=train_images/255"
      ],
      "execution_count": null,
      "outputs": []
    },
    {
      "cell_type": "markdown",
      "metadata": {
        "id": "m5pwDPLApAyy"
      },
      "source": [
        "### Build the model"
      ]
    },
    {
      "cell_type": "code",
      "metadata": {
        "id": "NLB0CukEpDoz"
      },
      "source": [
        "# This is the model from tensorflow's example.\n",
        "# Please try to modify it.\n",
        "\n",
        "model1 = keras.Sequential([\n",
        "    keras.layers.Flatten(input_shape=(28, 28)),\n",
        "    keras.layers.Dense(128, activation='relu'),\n",
        "    keras.layers.Dense(len_classes)\n",
        "])"
      ],
      "execution_count": null,
      "outputs": []
    },
    {
      "cell_type": "code",
      "metadata": {
        "id": "OlamJI6vpbaC"
      },
      "source": [
        "# This is the model from tensorflow's example.\n",
        "# Please try to modify it.\n",
        "\n",
        "model1.compile(optimizer='SGD',\n",
        "              loss=tf.keras.losses.SparseCategoricalCrossentropy(from_logits=True),\n",
        "              metrics=['accuracy'])"
      ],
      "execution_count": null,
      "outputs": []
    },
    {
      "cell_type": "markdown",
      "metadata": {
        "id": "4fTbI6yupoM-"
      },
      "source": [
        "Q2: Why the example use 'SparseCategoricalCrossentropy' and what is 'from_logits'? Is \"SGD\" good enough? (what if not?)\n",
        "\n",
        "A2:\n",
        "\n",
        "SparseCategoricalCrossEntropy:Turn numerical encoding into one hot encoding.  In this example, the label is numerical(0~10).\n",
        "\n",
        "from_logits:whether the predictions are expected to be logits tensor. \n",
        "\n",
        "SGD is not good enough comparing to adam optimizer(codes below)"
      ]
    },
    {
      "cell_type": "markdown",
      "metadata": {
        "id": "dh_KofJ8p27y"
      },
      "source": [
        "### Train the model"
      ]
    },
    {
      "cell_type": "code",
      "metadata": {
        "id": "Kk5jNTIvp2Hc",
        "colab": {
          "base_uri": "https://localhost:8080/"
        },
        "outputId": "ed8e9e7b-ffe9-4f1c-ae35-d2b8011d7b05"
      },
      "source": [
        "# This is the model from tensorflow's example.\n",
        "# Please try to modify it.\n",
        "\n",
        "model1.fit(train_images, train_labels, epochs=60)"
      ],
      "execution_count": null,
      "outputs": [
        {
          "output_type": "stream",
          "name": "stdout",
          "text": [
            "Epoch 1/60\n",
            "12/12 [==============================] - 1s 4ms/step - loss: 2.2638 - accuracy: 0.2697\n",
            "Epoch 2/60\n",
            "12/12 [==============================] - 0s 3ms/step - loss: 2.0872 - accuracy: 0.4017\n",
            "Epoch 3/60\n",
            "12/12 [==============================] - 0s 3ms/step - loss: 1.9539 - accuracy: 0.4017\n",
            "Epoch 4/60\n",
            "12/12 [==============================] - 0s 3ms/step - loss: 1.8518 - accuracy: 0.3989\n",
            "Epoch 5/60\n",
            "12/12 [==============================] - 0s 3ms/step - loss: 1.7785 - accuracy: 0.4045\n",
            "Epoch 6/60\n",
            "12/12 [==============================] - 0s 3ms/step - loss: 1.7124 - accuracy: 0.4298\n",
            "Epoch 7/60\n",
            "12/12 [==============================] - 0s 3ms/step - loss: 1.6533 - accuracy: 0.4326\n",
            "Epoch 8/60\n",
            "12/12 [==============================] - 0s 4ms/step - loss: 1.6009 - accuracy: 0.4522\n",
            "Epoch 9/60\n",
            "12/12 [==============================] - 0s 3ms/step - loss: 1.5516 - accuracy: 0.4494\n",
            "Epoch 10/60\n",
            "12/12 [==============================] - 0s 3ms/step - loss: 1.5062 - accuracy: 0.4607\n",
            "Epoch 11/60\n",
            "12/12 [==============================] - 0s 3ms/step - loss: 1.4643 - accuracy: 0.4691\n",
            "Epoch 12/60\n",
            "12/12 [==============================] - 0s 3ms/step - loss: 1.4249 - accuracy: 0.4831\n",
            "Epoch 13/60\n",
            "12/12 [==============================] - 0s 3ms/step - loss: 1.3886 - accuracy: 0.5506\n",
            "Epoch 14/60\n",
            "12/12 [==============================] - 0s 3ms/step - loss: 1.3570 - accuracy: 0.5253\n",
            "Epoch 15/60\n",
            "12/12 [==============================] - 0s 3ms/step - loss: 1.3224 - accuracy: 0.5758\n",
            "Epoch 16/60\n",
            "12/12 [==============================] - 0s 3ms/step - loss: 1.2927 - accuracy: 0.6152\n",
            "Epoch 17/60\n",
            "12/12 [==============================] - 0s 3ms/step - loss: 1.2651 - accuracy: 0.6348\n",
            "Epoch 18/60\n",
            "12/12 [==============================] - 0s 3ms/step - loss: 1.2381 - accuracy: 0.6376\n",
            "Epoch 19/60\n",
            "12/12 [==============================] - 0s 3ms/step - loss: 1.2120 - accuracy: 0.6433\n",
            "Epoch 20/60\n",
            "12/12 [==============================] - 0s 3ms/step - loss: 1.1868 - accuracy: 0.6713\n",
            "Epoch 21/60\n",
            "12/12 [==============================] - 0s 3ms/step - loss: 1.1630 - accuracy: 0.6966\n",
            "Epoch 22/60\n",
            "12/12 [==============================] - 0s 3ms/step - loss: 1.1401 - accuracy: 0.6798\n",
            "Epoch 23/60\n",
            "12/12 [==============================] - 0s 3ms/step - loss: 1.1175 - accuracy: 0.6966\n",
            "Epoch 24/60\n",
            "12/12 [==============================] - 0s 3ms/step - loss: 1.0988 - accuracy: 0.6910\n",
            "Epoch 25/60\n",
            "12/12 [==============================] - 0s 3ms/step - loss: 1.0766 - accuracy: 0.7444\n",
            "Epoch 26/60\n",
            "12/12 [==============================] - 0s 3ms/step - loss: 1.0573 - accuracy: 0.7360\n",
            "Epoch 27/60\n",
            "12/12 [==============================] - 0s 3ms/step - loss: 1.0394 - accuracy: 0.7416\n",
            "Epoch 28/60\n",
            "12/12 [==============================] - 0s 3ms/step - loss: 1.0220 - accuracy: 0.7500\n",
            "Epoch 29/60\n",
            "12/12 [==============================] - 0s 3ms/step - loss: 1.0031 - accuracy: 0.7697\n",
            "Epoch 30/60\n",
            "12/12 [==============================] - 0s 3ms/step - loss: 0.9863 - accuracy: 0.7500\n",
            "Epoch 31/60\n",
            "12/12 [==============================] - 0s 3ms/step - loss: 0.9681 - accuracy: 0.7809\n",
            "Epoch 32/60\n",
            "12/12 [==============================] - 0s 4ms/step - loss: 0.9531 - accuracy: 0.7809\n",
            "Epoch 33/60\n",
            "12/12 [==============================] - 0s 3ms/step - loss: 0.9346 - accuracy: 0.7949\n",
            "Epoch 34/60\n",
            "12/12 [==============================] - 0s 3ms/step - loss: 0.9206 - accuracy: 0.8062\n",
            "Epoch 35/60\n",
            "12/12 [==============================] - 0s 3ms/step - loss: 0.9079 - accuracy: 0.7978\n",
            "Epoch 36/60\n",
            "12/12 [==============================] - 0s 3ms/step - loss: 0.8915 - accuracy: 0.8146\n",
            "Epoch 37/60\n",
            "12/12 [==============================] - 0s 4ms/step - loss: 0.8766 - accuracy: 0.8146\n",
            "Epoch 38/60\n",
            "12/12 [==============================] - 0s 4ms/step - loss: 0.8651 - accuracy: 0.8146\n",
            "Epoch 39/60\n",
            "12/12 [==============================] - 0s 3ms/step - loss: 0.8517 - accuracy: 0.8174\n",
            "Epoch 40/60\n",
            "12/12 [==============================] - 0s 3ms/step - loss: 0.8409 - accuracy: 0.8174\n",
            "Epoch 41/60\n",
            "12/12 [==============================] - 0s 3ms/step - loss: 0.8274 - accuracy: 0.8202\n",
            "Epoch 42/60\n",
            "12/12 [==============================] - 0s 3ms/step - loss: 0.8173 - accuracy: 0.8118\n",
            "Epoch 43/60\n",
            "12/12 [==============================] - 0s 3ms/step - loss: 0.8045 - accuracy: 0.8230\n",
            "Epoch 44/60\n",
            "12/12 [==============================] - 0s 3ms/step - loss: 0.7930 - accuracy: 0.8202\n",
            "Epoch 45/60\n",
            "12/12 [==============================] - 0s 3ms/step - loss: 0.7838 - accuracy: 0.8118\n",
            "Epoch 46/60\n",
            "12/12 [==============================] - 0s 3ms/step - loss: 0.7740 - accuracy: 0.8118\n",
            "Epoch 47/60\n",
            "12/12 [==============================] - 0s 3ms/step - loss: 0.7628 - accuracy: 0.8343\n",
            "Epoch 48/60\n",
            "12/12 [==============================] - 0s 3ms/step - loss: 0.7529 - accuracy: 0.8399\n",
            "Epoch 49/60\n",
            "12/12 [==============================] - 0s 3ms/step - loss: 0.7434 - accuracy: 0.8343\n",
            "Epoch 50/60\n",
            "12/12 [==============================] - 0s 3ms/step - loss: 0.7338 - accuracy: 0.8399\n",
            "Epoch 51/60\n",
            "12/12 [==============================] - 0s 3ms/step - loss: 0.7252 - accuracy: 0.8399\n",
            "Epoch 52/60\n",
            "12/12 [==============================] - 0s 3ms/step - loss: 0.7165 - accuracy: 0.8371\n",
            "Epoch 53/60\n",
            "12/12 [==============================] - 0s 3ms/step - loss: 0.7083 - accuracy: 0.8427\n",
            "Epoch 54/60\n",
            "12/12 [==============================] - 0s 3ms/step - loss: 0.7004 - accuracy: 0.8427\n",
            "Epoch 55/60\n",
            "12/12 [==============================] - 0s 3ms/step - loss: 0.6919 - accuracy: 0.8427\n",
            "Epoch 56/60\n",
            "12/12 [==============================] - 0s 3ms/step - loss: 0.6848 - accuracy: 0.8455\n",
            "Epoch 57/60\n",
            "12/12 [==============================] - 0s 3ms/step - loss: 0.6775 - accuracy: 0.8455\n",
            "Epoch 58/60\n",
            "12/12 [==============================] - 0s 3ms/step - loss: 0.6711 - accuracy: 0.8427\n",
            "Epoch 59/60\n",
            "12/12 [==============================] - 0s 3ms/step - loss: 0.6645 - accuracy: 0.8427\n",
            "Epoch 60/60\n",
            "12/12 [==============================] - 0s 4ms/step - loss: 0.6580 - accuracy: 0.8427\n"
          ]
        },
        {
          "output_type": "execute_result",
          "data": {
            "text/plain": [
              "<keras.callbacks.History at 0x7fa12da1f690>"
            ]
          },
          "metadata": {},
          "execution_count": 16
        }
      ]
    },
    {
      "cell_type": "code",
      "source": [
        "model2 = keras.Sequential([\n",
        "    keras.layers.Flatten(input_shape=(28, 28)),\n",
        "    keras.layers.Dense(128, activation='relu'),\n",
        "    keras.layers.Dense(len_classes)\n",
        "])"
      ],
      "metadata": {
        "id": "8jy5DcMDBNPc"
      },
      "execution_count": null,
      "outputs": []
    },
    {
      "cell_type": "code",
      "source": [
        "model2.compile(optimizer='adam',\n",
        "              loss=tf.keras.losses.SparseCategoricalCrossentropy(from_logits=True),\n",
        "              metrics=['accuracy'])"
      ],
      "metadata": {
        "id": "PNspUuERAPdr"
      },
      "execution_count": null,
      "outputs": []
    },
    {
      "cell_type": "code",
      "source": [
        "model2.fit(train_images, train_labels, epochs=60)"
      ],
      "metadata": {
        "colab": {
          "base_uri": "https://localhost:8080/"
        },
        "id": "nivD4j8sA9Tt",
        "outputId": "8ef8cd4c-f4a8-478f-d811-b09411a4a598"
      },
      "execution_count": null,
      "outputs": [
        {
          "output_type": "stream",
          "name": "stdout",
          "text": [
            "Epoch 1/60\n",
            "12/12 [==============================] - 0s 6ms/step - loss: 1.9499 - accuracy: 0.2949\n",
            "Epoch 2/60\n",
            "12/12 [==============================] - 0s 3ms/step - loss: 1.2792 - accuracy: 0.5843\n",
            "Epoch 3/60\n",
            "12/12 [==============================] - 0s 4ms/step - loss: 0.9629 - accuracy: 0.7669\n",
            "Epoch 4/60\n",
            "12/12 [==============================] - 0s 4ms/step - loss: 0.7770 - accuracy: 0.8146\n",
            "Epoch 5/60\n",
            "12/12 [==============================] - 0s 4ms/step - loss: 0.6282 - accuracy: 0.8792\n",
            "Epoch 6/60\n",
            "12/12 [==============================] - 0s 4ms/step - loss: 0.5412 - accuracy: 0.8904\n",
            "Epoch 7/60\n",
            "12/12 [==============================] - 0s 3ms/step - loss: 0.4719 - accuracy: 0.8792\n",
            "Epoch 8/60\n",
            "12/12 [==============================] - 0s 3ms/step - loss: 0.4280 - accuracy: 0.8820\n",
            "Epoch 9/60\n",
            "12/12 [==============================] - 0s 3ms/step - loss: 0.3927 - accuracy: 0.9101\n",
            "Epoch 10/60\n",
            "12/12 [==============================] - 0s 3ms/step - loss: 0.3483 - accuracy: 0.9101\n",
            "Epoch 11/60\n",
            "12/12 [==============================] - 0s 3ms/step - loss: 0.3090 - accuracy: 0.9242\n",
            "Epoch 12/60\n",
            "12/12 [==============================] - 0s 3ms/step - loss: 0.2891 - accuracy: 0.9326\n",
            "Epoch 13/60\n",
            "12/12 [==============================] - 0s 3ms/step - loss: 0.2612 - accuracy: 0.9466\n",
            "Epoch 14/60\n",
            "12/12 [==============================] - 0s 3ms/step - loss: 0.2401 - accuracy: 0.9438\n",
            "Epoch 15/60\n",
            "12/12 [==============================] - 0s 3ms/step - loss: 0.2277 - accuracy: 0.9410\n",
            "Epoch 16/60\n",
            "12/12 [==============================] - 0s 3ms/step - loss: 0.2070 - accuracy: 0.9579\n",
            "Epoch 17/60\n",
            "12/12 [==============================] - 0s 3ms/step - loss: 0.1961 - accuracy: 0.9579\n",
            "Epoch 18/60\n",
            "12/12 [==============================] - 0s 3ms/step - loss: 0.1788 - accuracy: 0.9579\n",
            "Epoch 19/60\n",
            "12/12 [==============================] - 0s 3ms/step - loss: 0.1871 - accuracy: 0.9494\n",
            "Epoch 20/60\n",
            "12/12 [==============================] - 0s 4ms/step - loss: 0.1655 - accuracy: 0.9607\n",
            "Epoch 21/60\n",
            "12/12 [==============================] - 0s 4ms/step - loss: 0.1525 - accuracy: 0.9635\n",
            "Epoch 22/60\n",
            "12/12 [==============================] - 0s 4ms/step - loss: 0.1431 - accuracy: 0.9635\n",
            "Epoch 23/60\n",
            "12/12 [==============================] - 0s 3ms/step - loss: 0.1661 - accuracy: 0.9494\n",
            "Epoch 24/60\n",
            "12/12 [==============================] - 0s 4ms/step - loss: 0.1329 - accuracy: 0.9663\n",
            "Epoch 25/60\n",
            "12/12 [==============================] - 0s 3ms/step - loss: 0.1377 - accuracy: 0.9607\n",
            "Epoch 26/60\n",
            "12/12 [==============================] - 0s 4ms/step - loss: 0.1209 - accuracy: 0.9747\n",
            "Epoch 27/60\n",
            "12/12 [==============================] - 0s 3ms/step - loss: 0.1113 - accuracy: 0.9775\n",
            "Epoch 28/60\n",
            "12/12 [==============================] - 0s 3ms/step - loss: 0.1062 - accuracy: 0.9747\n",
            "Epoch 29/60\n",
            "12/12 [==============================] - 0s 3ms/step - loss: 0.0982 - accuracy: 0.9803\n",
            "Epoch 30/60\n",
            "12/12 [==============================] - 0s 3ms/step - loss: 0.0926 - accuracy: 0.9803\n",
            "Epoch 31/60\n",
            "12/12 [==============================] - 0s 3ms/step - loss: 0.0885 - accuracy: 0.9860\n",
            "Epoch 32/60\n",
            "12/12 [==============================] - 0s 3ms/step - loss: 0.0845 - accuracy: 0.9888\n",
            "Epoch 33/60\n",
            "12/12 [==============================] - 0s 3ms/step - loss: 0.1029 - accuracy: 0.9747\n",
            "Epoch 34/60\n",
            "12/12 [==============================] - 0s 4ms/step - loss: 0.0906 - accuracy: 0.9803\n",
            "Epoch 35/60\n",
            "12/12 [==============================] - 0s 3ms/step - loss: 0.0926 - accuracy: 0.9747\n",
            "Epoch 36/60\n",
            "12/12 [==============================] - 0s 3ms/step - loss: 0.0769 - accuracy: 0.9803\n",
            "Epoch 37/60\n",
            "12/12 [==============================] - 0s 3ms/step - loss: 0.0708 - accuracy: 0.9831\n",
            "Epoch 38/60\n",
            "12/12 [==============================] - 0s 3ms/step - loss: 0.0700 - accuracy: 0.9888\n",
            "Epoch 39/60\n",
            "12/12 [==============================] - 0s 4ms/step - loss: 0.0700 - accuracy: 0.9803\n",
            "Epoch 40/60\n",
            "12/12 [==============================] - 0s 3ms/step - loss: 0.0695 - accuracy: 0.9860\n",
            "Epoch 41/60\n",
            "12/12 [==============================] - 0s 4ms/step - loss: 0.0641 - accuracy: 0.9860\n",
            "Epoch 42/60\n",
            "12/12 [==============================] - 0s 4ms/step - loss: 0.0633 - accuracy: 0.9831\n",
            "Epoch 43/60\n",
            "12/12 [==============================] - 0s 3ms/step - loss: 0.0591 - accuracy: 0.9831\n",
            "Epoch 44/60\n",
            "12/12 [==============================] - 0s 3ms/step - loss: 0.0562 - accuracy: 0.9888\n",
            "Epoch 45/60\n",
            "12/12 [==============================] - 0s 3ms/step - loss: 0.0533 - accuracy: 0.9916\n",
            "Epoch 46/60\n",
            "12/12 [==============================] - 0s 3ms/step - loss: 0.0532 - accuracy: 0.9888\n",
            "Epoch 47/60\n",
            "12/12 [==============================] - 0s 3ms/step - loss: 0.0549 - accuracy: 0.9888\n",
            "Epoch 48/60\n",
            "12/12 [==============================] - 0s 4ms/step - loss: 0.0495 - accuracy: 0.9916\n",
            "Epoch 49/60\n",
            "12/12 [==============================] - 0s 3ms/step - loss: 0.0505 - accuracy: 0.9860\n",
            "Epoch 50/60\n",
            "12/12 [==============================] - 0s 3ms/step - loss: 0.0478 - accuracy: 0.9888\n",
            "Epoch 51/60\n",
            "12/12 [==============================] - 0s 3ms/step - loss: 0.0478 - accuracy: 0.9888\n",
            "Epoch 52/60\n",
            "12/12 [==============================] - 0s 3ms/step - loss: 0.0447 - accuracy: 0.9944\n",
            "Epoch 53/60\n",
            "12/12 [==============================] - 0s 4ms/step - loss: 0.0445 - accuracy: 0.9944\n",
            "Epoch 54/60\n",
            "12/12 [==============================] - 0s 3ms/step - loss: 0.0458 - accuracy: 0.9888\n",
            "Epoch 55/60\n",
            "12/12 [==============================] - 0s 3ms/step - loss: 0.0412 - accuracy: 0.9972\n",
            "Epoch 56/60\n",
            "12/12 [==============================] - 0s 3ms/step - loss: 0.0400 - accuracy: 0.9916\n",
            "Epoch 57/60\n",
            "12/12 [==============================] - 0s 3ms/step - loss: 0.0388 - accuracy: 0.9888\n",
            "Epoch 58/60\n",
            "12/12 [==============================] - 0s 3ms/step - loss: 0.0400 - accuracy: 0.9860\n",
            "Epoch 59/60\n",
            "12/12 [==============================] - 0s 3ms/step - loss: 0.0366 - accuracy: 0.9944\n",
            "Epoch 60/60\n",
            "12/12 [==============================] - 0s 3ms/step - loss: 0.0366 - accuracy: 0.9888\n"
          ]
        },
        {
          "output_type": "execute_result",
          "data": {
            "text/plain": [
              "<keras.callbacks.History at 0x7fa133068a50>"
            ]
          },
          "metadata": {},
          "execution_count": 19
        }
      ]
    },
    {
      "cell_type": "markdown",
      "metadata": {
        "id": "7pObjsXup7lN"
      },
      "source": [
        "Q3: What is 'epochs'? How does it affect the result?\n",
        "\n",
        "A3:When finish all the training data.  If epoch is too small, it will let the accuracy too low.  But too much epoch may lead to overfitting."
      ]
    },
    {
      "cell_type": "markdown",
      "metadata": {
        "id": "PQmHXomhqGqd"
      },
      "source": [
        "Q4: What is 'split_validation' in model.fit()? Check it out in tensorflow's web page. Use it in your code.\n",
        "\n",
        "A4:Fraction of the training data to be used as validation data. The model will set apart this fraction of the training data, will not train on it, and will evaluate the loss and any model metrics on this data at the end of each epoch."
      ]
    },
    {
      "cell_type": "code",
      "source": [
        "#code of Q4\n",
        "model1.fit(train_images, train_labels, epochs=60,validation_split=0.2)"
      ],
      "metadata": {
        "colab": {
          "base_uri": "https://localhost:8080/"
        },
        "id": "TlB1PfQ4QMp4",
        "outputId": "ad49f53a-6004-4735-9a36-6e8f7571851b"
      },
      "execution_count": null,
      "outputs": [
        {
          "output_type": "stream",
          "name": "stdout",
          "text": [
            "Epoch 1/60\n",
            "9/9 [==============================] - 0s 32ms/step - loss: 0.6400 - accuracy: 0.8592 - val_loss: 0.6884 - val_accuracy: 0.8194\n",
            "Epoch 2/60\n",
            "9/9 [==============================] - 0s 6ms/step - loss: 0.6331 - accuracy: 0.8592 - val_loss: 0.6881 - val_accuracy: 0.8194\n",
            "Epoch 3/60\n",
            "9/9 [==============================] - 0s 6ms/step - loss: 0.6276 - accuracy: 0.8592 - val_loss: 0.6856 - val_accuracy: 0.8333\n",
            "Epoch 4/60\n",
            "9/9 [==============================] - 0s 6ms/step - loss: 0.6214 - accuracy: 0.8592 - val_loss: 0.6844 - val_accuracy: 0.8333\n",
            "Epoch 5/60\n",
            "9/9 [==============================] - 0s 7ms/step - loss: 0.6161 - accuracy: 0.8592 - val_loss: 0.6840 - val_accuracy: 0.8194\n",
            "Epoch 6/60\n",
            "9/9 [==============================] - 0s 7ms/step - loss: 0.6111 - accuracy: 0.8592 - val_loss: 0.6813 - val_accuracy: 0.8333\n",
            "Epoch 7/60\n",
            "9/9 [==============================] - 0s 6ms/step - loss: 0.6069 - accuracy: 0.8592 - val_loss: 0.6798 - val_accuracy: 0.8333\n",
            "Epoch 8/60\n",
            "9/9 [==============================] - 0s 8ms/step - loss: 0.6011 - accuracy: 0.8592 - val_loss: 0.6768 - val_accuracy: 0.8333\n",
            "Epoch 9/60\n",
            "9/9 [==============================] - 0s 6ms/step - loss: 0.5968 - accuracy: 0.8627 - val_loss: 0.6757 - val_accuracy: 0.8194\n",
            "Epoch 10/60\n",
            "9/9 [==============================] - 0s 6ms/step - loss: 0.5905 - accuracy: 0.8627 - val_loss: 0.6734 - val_accuracy: 0.8194\n",
            "Epoch 11/60\n",
            "9/9 [==============================] - 0s 7ms/step - loss: 0.5871 - accuracy: 0.8627 - val_loss: 0.6709 - val_accuracy: 0.8194\n",
            "Epoch 12/60\n",
            "9/9 [==============================] - 0s 8ms/step - loss: 0.5825 - accuracy: 0.8662 - val_loss: 0.6691 - val_accuracy: 0.8194\n",
            "Epoch 13/60\n",
            "9/9 [==============================] - 0s 7ms/step - loss: 0.5789 - accuracy: 0.8627 - val_loss: 0.6656 - val_accuracy: 0.8194\n",
            "Epoch 14/60\n",
            "9/9 [==============================] - 0s 8ms/step - loss: 0.5732 - accuracy: 0.8627 - val_loss: 0.6637 - val_accuracy: 0.8194\n",
            "Epoch 15/60\n",
            "9/9 [==============================] - 0s 6ms/step - loss: 0.5689 - accuracy: 0.8662 - val_loss: 0.6617 - val_accuracy: 0.8194\n",
            "Epoch 16/60\n",
            "9/9 [==============================] - 0s 8ms/step - loss: 0.5650 - accuracy: 0.8627 - val_loss: 0.6591 - val_accuracy: 0.8194\n",
            "Epoch 17/60\n",
            "9/9 [==============================] - 0s 6ms/step - loss: 0.5616 - accuracy: 0.8627 - val_loss: 0.6563 - val_accuracy: 0.8194\n",
            "Epoch 18/60\n",
            "9/9 [==============================] - 0s 6ms/step - loss: 0.5574 - accuracy: 0.8697 - val_loss: 0.6554 - val_accuracy: 0.8194\n",
            "Epoch 19/60\n",
            "9/9 [==============================] - 0s 6ms/step - loss: 0.5526 - accuracy: 0.8697 - val_loss: 0.6530 - val_accuracy: 0.8194\n",
            "Epoch 20/60\n",
            "9/9 [==============================] - 0s 6ms/step - loss: 0.5483 - accuracy: 0.8662 - val_loss: 0.6501 - val_accuracy: 0.8194\n",
            "Epoch 21/60\n",
            "9/9 [==============================] - 0s 6ms/step - loss: 0.5442 - accuracy: 0.8697 - val_loss: 0.6466 - val_accuracy: 0.8194\n",
            "Epoch 22/60\n",
            "9/9 [==============================] - 0s 6ms/step - loss: 0.5410 - accuracy: 0.8768 - val_loss: 0.6447 - val_accuracy: 0.8194\n",
            "Epoch 23/60\n",
            "9/9 [==============================] - 0s 6ms/step - loss: 0.5369 - accuracy: 0.8732 - val_loss: 0.6424 - val_accuracy: 0.8194\n",
            "Epoch 24/60\n",
            "9/9 [==============================] - 0s 6ms/step - loss: 0.5341 - accuracy: 0.8803 - val_loss: 0.6401 - val_accuracy: 0.8194\n",
            "Epoch 25/60\n",
            "9/9 [==============================] - 0s 6ms/step - loss: 0.5292 - accuracy: 0.8732 - val_loss: 0.6372 - val_accuracy: 0.8333\n",
            "Epoch 26/60\n",
            "9/9 [==============================] - 0s 6ms/step - loss: 0.5266 - accuracy: 0.8803 - val_loss: 0.6352 - val_accuracy: 0.8333\n",
            "Epoch 27/60\n",
            "9/9 [==============================] - 0s 8ms/step - loss: 0.5218 - accuracy: 0.8803 - val_loss: 0.6322 - val_accuracy: 0.8333\n",
            "Epoch 28/60\n",
            "9/9 [==============================] - 0s 6ms/step - loss: 0.5192 - accuracy: 0.8838 - val_loss: 0.6305 - val_accuracy: 0.8333\n",
            "Epoch 29/60\n",
            "9/9 [==============================] - 0s 7ms/step - loss: 0.5149 - accuracy: 0.8908 - val_loss: 0.6291 - val_accuracy: 0.8333\n",
            "Epoch 30/60\n",
            "9/9 [==============================] - 0s 7ms/step - loss: 0.5120 - accuracy: 0.8873 - val_loss: 0.6268 - val_accuracy: 0.8333\n",
            "Epoch 31/60\n",
            "9/9 [==============================] - 0s 8ms/step - loss: 0.5073 - accuracy: 0.8873 - val_loss: 0.6250 - val_accuracy: 0.8333\n",
            "Epoch 32/60\n",
            "9/9 [==============================] - 0s 7ms/step - loss: 0.5047 - accuracy: 0.8838 - val_loss: 0.6226 - val_accuracy: 0.8333\n",
            "Epoch 33/60\n",
            "9/9 [==============================] - 0s 9ms/step - loss: 0.5018 - accuracy: 0.8908 - val_loss: 0.6194 - val_accuracy: 0.8333\n",
            "Epoch 34/60\n",
            "9/9 [==============================] - 0s 8ms/step - loss: 0.4979 - accuracy: 0.8873 - val_loss: 0.6186 - val_accuracy: 0.8333\n",
            "Epoch 35/60\n",
            "9/9 [==============================] - 0s 8ms/step - loss: 0.4947 - accuracy: 0.8908 - val_loss: 0.6169 - val_accuracy: 0.8333\n",
            "Epoch 36/60\n",
            "9/9 [==============================] - 0s 6ms/step - loss: 0.4917 - accuracy: 0.8873 - val_loss: 0.6147 - val_accuracy: 0.8333\n",
            "Epoch 37/60\n",
            "9/9 [==============================] - 0s 7ms/step - loss: 0.4878 - accuracy: 0.8908 - val_loss: 0.6146 - val_accuracy: 0.8333\n",
            "Epoch 38/60\n",
            "9/9 [==============================] - 0s 8ms/step - loss: 0.4846 - accuracy: 0.8908 - val_loss: 0.6120 - val_accuracy: 0.8333\n",
            "Epoch 39/60\n",
            "9/9 [==============================] - 0s 8ms/step - loss: 0.4817 - accuracy: 0.8908 - val_loss: 0.6107 - val_accuracy: 0.8333\n",
            "Epoch 40/60\n",
            "9/9 [==============================] - 0s 6ms/step - loss: 0.4788 - accuracy: 0.8908 - val_loss: 0.6077 - val_accuracy: 0.8472\n",
            "Epoch 41/60\n",
            "9/9 [==============================] - 0s 6ms/step - loss: 0.4760 - accuracy: 0.8908 - val_loss: 0.6056 - val_accuracy: 0.8472\n",
            "Epoch 42/60\n",
            "9/9 [==============================] - 0s 6ms/step - loss: 0.4734 - accuracy: 0.8908 - val_loss: 0.6038 - val_accuracy: 0.8472\n",
            "Epoch 43/60\n",
            "9/9 [==============================] - 0s 8ms/step - loss: 0.4700 - accuracy: 0.8908 - val_loss: 0.6012 - val_accuracy: 0.8472\n",
            "Epoch 44/60\n",
            "9/9 [==============================] - 0s 6ms/step - loss: 0.4664 - accuracy: 0.8908 - val_loss: 0.6003 - val_accuracy: 0.8472\n",
            "Epoch 45/60\n",
            "9/9 [==============================] - 0s 6ms/step - loss: 0.4641 - accuracy: 0.8908 - val_loss: 0.5994 - val_accuracy: 0.8472\n",
            "Epoch 46/60\n",
            "9/9 [==============================] - 0s 6ms/step - loss: 0.4611 - accuracy: 0.8908 - val_loss: 0.5982 - val_accuracy: 0.8472\n",
            "Epoch 47/60\n",
            "9/9 [==============================] - 0s 9ms/step - loss: 0.4582 - accuracy: 0.8908 - val_loss: 0.5964 - val_accuracy: 0.8472\n",
            "Epoch 48/60\n",
            "9/9 [==============================] - 0s 9ms/step - loss: 0.4554 - accuracy: 0.8908 - val_loss: 0.5953 - val_accuracy: 0.8472\n",
            "Epoch 49/60\n",
            "9/9 [==============================] - 0s 6ms/step - loss: 0.4524 - accuracy: 0.8944 - val_loss: 0.5936 - val_accuracy: 0.8472\n",
            "Epoch 50/60\n",
            "9/9 [==============================] - 0s 6ms/step - loss: 0.4500 - accuracy: 0.8908 - val_loss: 0.5912 - val_accuracy: 0.8472\n",
            "Epoch 51/60\n",
            "9/9 [==============================] - 0s 7ms/step - loss: 0.4472 - accuracy: 0.8908 - val_loss: 0.5903 - val_accuracy: 0.8472\n",
            "Epoch 52/60\n",
            "9/9 [==============================] - 0s 6ms/step - loss: 0.4444 - accuracy: 0.8908 - val_loss: 0.5873 - val_accuracy: 0.8472\n",
            "Epoch 53/60\n",
            "9/9 [==============================] - 0s 7ms/step - loss: 0.4413 - accuracy: 0.8908 - val_loss: 0.5861 - val_accuracy: 0.8472\n",
            "Epoch 54/60\n",
            "9/9 [==============================] - 0s 6ms/step - loss: 0.4385 - accuracy: 0.8944 - val_loss: 0.5844 - val_accuracy: 0.8472\n",
            "Epoch 55/60\n",
            "9/9 [==============================] - 0s 8ms/step - loss: 0.4360 - accuracy: 0.8908 - val_loss: 0.5828 - val_accuracy: 0.8472\n",
            "Epoch 56/60\n",
            "9/9 [==============================] - 0s 7ms/step - loss: 0.4336 - accuracy: 0.8944 - val_loss: 0.5818 - val_accuracy: 0.8472\n",
            "Epoch 57/60\n",
            "9/9 [==============================] - 0s 8ms/step - loss: 0.4313 - accuracy: 0.8908 - val_loss: 0.5809 - val_accuracy: 0.8472\n",
            "Epoch 58/60\n",
            "9/9 [==============================] - 0s 6ms/step - loss: 0.4278 - accuracy: 0.8908 - val_loss: 0.5809 - val_accuracy: 0.8472\n",
            "Epoch 59/60\n",
            "9/9 [==============================] - 0s 6ms/step - loss: 0.4257 - accuracy: 0.8944 - val_loss: 0.5794 - val_accuracy: 0.8472\n",
            "Epoch 60/60\n",
            "9/9 [==============================] - 0s 6ms/step - loss: 0.4234 - accuracy: 0.8944 - val_loss: 0.5788 - val_accuracy: 0.8472\n"
          ]
        },
        {
          "output_type": "execute_result",
          "data": {
            "text/plain": [
              "<keras.callbacks.History at 0x7fa133a55cd0>"
            ]
          },
          "metadata": {},
          "execution_count": 20
        }
      ]
    },
    {
      "cell_type": "code",
      "source": [
        "model2.fit(train_images, train_labels, epochs=60,validation_split=0.2)"
      ],
      "metadata": {
        "colab": {
          "base_uri": "https://localhost:8080/"
        },
        "id": "3PYCdgrYQpAg",
        "outputId": "77427e5e-fa3e-42b5-8a78-c8d4def6575f"
      },
      "execution_count": null,
      "outputs": [
        {
          "output_type": "stream",
          "name": "stdout",
          "text": [
            "Epoch 1/60\n",
            "9/9 [==============================] - 0s 24ms/step - loss: 0.0268 - accuracy: 0.9965 - val_loss: 0.0817 - val_accuracy: 0.9722\n",
            "Epoch 2/60\n",
            "9/9 [==============================] - 0s 6ms/step - loss: 0.0295 - accuracy: 0.9965 - val_loss: 0.0735 - val_accuracy: 0.9583\n",
            "Epoch 3/60\n",
            "9/9 [==============================] - 0s 9ms/step - loss: 0.0258 - accuracy: 0.9965 - val_loss: 0.0692 - val_accuracy: 0.9583\n",
            "Epoch 4/60\n",
            "9/9 [==============================] - 0s 8ms/step - loss: 0.0254 - accuracy: 0.9965 - val_loss: 0.0721 - val_accuracy: 0.9583\n",
            "Epoch 5/60\n",
            "9/9 [==============================] - 0s 9ms/step - loss: 0.0246 - accuracy: 0.9965 - val_loss: 0.0719 - val_accuracy: 0.9583\n",
            "Epoch 6/60\n",
            "9/9 [==============================] - 0s 7ms/step - loss: 0.0241 - accuracy: 0.9965 - val_loss: 0.0722 - val_accuracy: 0.9583\n",
            "Epoch 7/60\n",
            "9/9 [==============================] - 0s 6ms/step - loss: 0.0230 - accuracy: 0.9965 - val_loss: 0.0748 - val_accuracy: 0.9583\n",
            "Epoch 8/60\n",
            "9/9 [==============================] - 0s 7ms/step - loss: 0.0226 - accuracy: 0.9965 - val_loss: 0.0735 - val_accuracy: 0.9583\n",
            "Epoch 9/60\n",
            "9/9 [==============================] - 0s 8ms/step - loss: 0.0220 - accuracy: 0.9965 - val_loss: 0.0772 - val_accuracy: 0.9583\n",
            "Epoch 10/60\n",
            "9/9 [==============================] - 0s 7ms/step - loss: 0.0220 - accuracy: 0.9965 - val_loss: 0.0761 - val_accuracy: 0.9583\n",
            "Epoch 11/60\n",
            "9/9 [==============================] - 0s 6ms/step - loss: 0.0218 - accuracy: 0.9930 - val_loss: 0.0830 - val_accuracy: 0.9583\n",
            "Epoch 12/60\n",
            "9/9 [==============================] - 0s 9ms/step - loss: 0.0209 - accuracy: 0.9965 - val_loss: 0.0745 - val_accuracy: 0.9583\n",
            "Epoch 13/60\n",
            "9/9 [==============================] - 0s 6ms/step - loss: 0.0207 - accuracy: 0.9965 - val_loss: 0.0810 - val_accuracy: 0.9583\n",
            "Epoch 14/60\n",
            "9/9 [==============================] - 0s 6ms/step - loss: 0.0197 - accuracy: 0.9965 - val_loss: 0.0797 - val_accuracy: 0.9583\n",
            "Epoch 15/60\n",
            "9/9 [==============================] - 0s 8ms/step - loss: 0.0188 - accuracy: 1.0000 - val_loss: 0.0790 - val_accuracy: 0.9583\n",
            "Epoch 16/60\n",
            "9/9 [==============================] - 0s 8ms/step - loss: 0.0188 - accuracy: 0.9965 - val_loss: 0.0786 - val_accuracy: 0.9583\n",
            "Epoch 17/60\n",
            "9/9 [==============================] - 0s 7ms/step - loss: 0.0185 - accuracy: 1.0000 - val_loss: 0.0803 - val_accuracy: 0.9583\n",
            "Epoch 18/60\n",
            "9/9 [==============================] - 0s 8ms/step - loss: 0.0175 - accuracy: 0.9965 - val_loss: 0.0871 - val_accuracy: 0.9583\n",
            "Epoch 19/60\n",
            "9/9 [==============================] - 0s 6ms/step - loss: 0.0175 - accuracy: 0.9965 - val_loss: 0.0872 - val_accuracy: 0.9583\n",
            "Epoch 20/60\n",
            "9/9 [==============================] - 0s 6ms/step - loss: 0.0178 - accuracy: 0.9965 - val_loss: 0.0878 - val_accuracy: 0.9583\n",
            "Epoch 21/60\n",
            "9/9 [==============================] - 0s 8ms/step - loss: 0.0171 - accuracy: 1.0000 - val_loss: 0.0777 - val_accuracy: 0.9583\n",
            "Epoch 22/60\n",
            "9/9 [==============================] - 0s 6ms/step - loss: 0.0164 - accuracy: 1.0000 - val_loss: 0.0876 - val_accuracy: 0.9583\n",
            "Epoch 23/60\n",
            "9/9 [==============================] - 0s 6ms/step - loss: 0.0164 - accuracy: 0.9965 - val_loss: 0.0878 - val_accuracy: 0.9583\n",
            "Epoch 24/60\n",
            "9/9 [==============================] - 0s 6ms/step - loss: 0.0153 - accuracy: 1.0000 - val_loss: 0.0821 - val_accuracy: 0.9583\n",
            "Epoch 25/60\n",
            "9/9 [==============================] - 0s 8ms/step - loss: 0.0154 - accuracy: 1.0000 - val_loss: 0.0835 - val_accuracy: 0.9583\n",
            "Epoch 26/60\n",
            "9/9 [==============================] - 0s 6ms/step - loss: 0.0149 - accuracy: 1.0000 - val_loss: 0.0875 - val_accuracy: 0.9583\n",
            "Epoch 27/60\n",
            "9/9 [==============================] - 0s 6ms/step - loss: 0.0152 - accuracy: 0.9965 - val_loss: 0.0935 - val_accuracy: 0.9583\n",
            "Epoch 28/60\n",
            "9/9 [==============================] - 0s 8ms/step - loss: 0.0139 - accuracy: 1.0000 - val_loss: 0.0893 - val_accuracy: 0.9583\n",
            "Epoch 29/60\n",
            "9/9 [==============================] - 0s 7ms/step - loss: 0.0145 - accuracy: 1.0000 - val_loss: 0.0844 - val_accuracy: 0.9583\n",
            "Epoch 30/60\n",
            "9/9 [==============================] - 0s 6ms/step - loss: 0.0137 - accuracy: 1.0000 - val_loss: 0.0913 - val_accuracy: 0.9583\n",
            "Epoch 31/60\n",
            "9/9 [==============================] - 0s 8ms/step - loss: 0.0137 - accuracy: 0.9965 - val_loss: 0.0964 - val_accuracy: 0.9583\n",
            "Epoch 32/60\n",
            "9/9 [==============================] - 0s 7ms/step - loss: 0.0128 - accuracy: 1.0000 - val_loss: 0.0889 - val_accuracy: 0.9583\n",
            "Epoch 33/60\n",
            "9/9 [==============================] - 0s 7ms/step - loss: 0.0132 - accuracy: 1.0000 - val_loss: 0.0835 - val_accuracy: 0.9583\n",
            "Epoch 34/60\n",
            "9/9 [==============================] - 0s 6ms/step - loss: 0.0125 - accuracy: 1.0000 - val_loss: 0.0882 - val_accuracy: 0.9583\n",
            "Epoch 35/60\n",
            "9/9 [==============================] - 0s 6ms/step - loss: 0.0122 - accuracy: 1.0000 - val_loss: 0.1019 - val_accuracy: 0.9583\n",
            "Epoch 36/60\n",
            "9/9 [==============================] - 0s 7ms/step - loss: 0.0125 - accuracy: 1.0000 - val_loss: 0.0990 - val_accuracy: 0.9583\n",
            "Epoch 37/60\n",
            "9/9 [==============================] - 0s 6ms/step - loss: 0.0125 - accuracy: 1.0000 - val_loss: 0.0968 - val_accuracy: 0.9583\n",
            "Epoch 38/60\n",
            "9/9 [==============================] - 0s 8ms/step - loss: 0.0114 - accuracy: 1.0000 - val_loss: 0.0878 - val_accuracy: 0.9583\n",
            "Epoch 39/60\n",
            "9/9 [==============================] - 0s 6ms/step - loss: 0.0115 - accuracy: 1.0000 - val_loss: 0.0964 - val_accuracy: 0.9583\n",
            "Epoch 40/60\n",
            "9/9 [==============================] - 0s 6ms/step - loss: 0.0110 - accuracy: 1.0000 - val_loss: 0.0997 - val_accuracy: 0.9583\n",
            "Epoch 41/60\n",
            "9/9 [==============================] - 0s 6ms/step - loss: 0.0108 - accuracy: 1.0000 - val_loss: 0.0950 - val_accuracy: 0.9583\n",
            "Epoch 42/60\n",
            "9/9 [==============================] - 0s 8ms/step - loss: 0.0105 - accuracy: 1.0000 - val_loss: 0.0944 - val_accuracy: 0.9583\n",
            "Epoch 43/60\n",
            "9/9 [==============================] - 0s 6ms/step - loss: 0.0102 - accuracy: 1.0000 - val_loss: 0.0937 - val_accuracy: 0.9583\n",
            "Epoch 44/60\n",
            "9/9 [==============================] - 0s 6ms/step - loss: 0.0099 - accuracy: 1.0000 - val_loss: 0.0988 - val_accuracy: 0.9583\n",
            "Epoch 45/60\n",
            "9/9 [==============================] - 0s 9ms/step - loss: 0.0100 - accuracy: 1.0000 - val_loss: 0.1004 - val_accuracy: 0.9583\n",
            "Epoch 46/60\n",
            "9/9 [==============================] - 0s 7ms/step - loss: 0.0098 - accuracy: 1.0000 - val_loss: 0.1021 - val_accuracy: 0.9583\n",
            "Epoch 47/60\n",
            "9/9 [==============================] - 0s 7ms/step - loss: 0.0094 - accuracy: 1.0000 - val_loss: 0.1009 - val_accuracy: 0.9583\n",
            "Epoch 48/60\n",
            "9/9 [==============================] - 0s 8ms/step - loss: 0.0099 - accuracy: 1.0000 - val_loss: 0.0969 - val_accuracy: 0.9583\n",
            "Epoch 49/60\n",
            "9/9 [==============================] - 0s 6ms/step - loss: 0.0090 - accuracy: 1.0000 - val_loss: 0.1046 - val_accuracy: 0.9583\n",
            "Epoch 50/60\n",
            "9/9 [==============================] - 0s 8ms/step - loss: 0.0090 - accuracy: 1.0000 - val_loss: 0.1018 - val_accuracy: 0.9583\n",
            "Epoch 51/60\n",
            "9/9 [==============================] - 0s 8ms/step - loss: 0.0088 - accuracy: 1.0000 - val_loss: 0.1030 - val_accuracy: 0.9583\n",
            "Epoch 52/60\n",
            "9/9 [==============================] - 0s 6ms/step - loss: 0.0087 - accuracy: 1.0000 - val_loss: 0.1052 - val_accuracy: 0.9583\n",
            "Epoch 53/60\n",
            "9/9 [==============================] - 0s 9ms/step - loss: 0.0086 - accuracy: 1.0000 - val_loss: 0.1043 - val_accuracy: 0.9583\n",
            "Epoch 54/60\n",
            "9/9 [==============================] - 0s 8ms/step - loss: 0.0083 - accuracy: 1.0000 - val_loss: 0.1044 - val_accuracy: 0.9583\n",
            "Epoch 55/60\n",
            "9/9 [==============================] - 0s 7ms/step - loss: 0.0084 - accuracy: 1.0000 - val_loss: 0.1003 - val_accuracy: 0.9583\n",
            "Epoch 56/60\n",
            "9/9 [==============================] - 0s 8ms/step - loss: 0.0085 - accuracy: 1.0000 - val_loss: 0.1128 - val_accuracy: 0.9583\n",
            "Epoch 57/60\n",
            "9/9 [==============================] - 0s 6ms/step - loss: 0.0082 - accuracy: 1.0000 - val_loss: 0.1058 - val_accuracy: 0.9583\n",
            "Epoch 58/60\n",
            "9/9 [==============================] - 0s 6ms/step - loss: 0.0076 - accuracy: 1.0000 - val_loss: 0.1074 - val_accuracy: 0.9583\n",
            "Epoch 59/60\n",
            "9/9 [==============================] - 0s 6ms/step - loss: 0.0076 - accuracy: 1.0000 - val_loss: 0.1079 - val_accuracy: 0.9444\n",
            "Epoch 60/60\n",
            "9/9 [==============================] - 0s 8ms/step - loss: 0.0075 - accuracy: 1.0000 - val_loss: 0.1097 - val_accuracy: 0.9444\n"
          ]
        },
        {
          "output_type": "execute_result",
          "data": {
            "text/plain": [
              "<keras.callbacks.History at 0x7fa132caa7d0>"
            ]
          },
          "metadata": {},
          "execution_count": 21
        }
      ]
    },
    {
      "cell_type": "markdown",
      "metadata": {
        "id": "lleu3shDqWFr"
      },
      "source": [
        "Q5: Could you exaplin the output of model.fit()? And what is your accuracy?\n",
        "\n",
        "A5:About 0.84 when using sgd opitimizer, and 0.98 when using adam optimizer"
      ]
    },
    {
      "cell_type": "markdown",
      "metadata": {
        "id": "imcd1Dwzqre3"
      },
      "source": [
        "Q6: How do you know your model is not overfitted?\n",
        "\n",
        "A6:Since we don't have test dataset, we just evaluate accuracy, if the accuracy is too high(approximate to 1.0), overfitting is usually happening."
      ]
    },
    {
      "cell_type": "markdown",
      "metadata": {
        "id": "pLdPN7gBqw0c"
      },
      "source": [
        "Q7: Could you introduce 'early stop mechanism' in your code? Then, train the model again. \"Early stop\" means you can stop the epoch (without finishing all of them). You can prepare a validation data set and calculate your val_loss and val_accuracy at the end of each epoch. If you believe the val_loss will not improve for the next epoch, then you can stop the traning, to save time and to prevent overfitting. Does it works?\n",
        "\n",
        "A7:In this examplke, it seems that early stop doesn't work. "
      ]
    },
    {
      "cell_type": "code",
      "source": [
        "#code of Q7\n",
        "callback = tf.keras.callbacks.EarlyStopping(\n",
        "    monitor = 'acc', # default 'loss', you may try 'acc', 'val_acc', ...\n",
        "    min_delta = 0.0005, # minimum change of 'monitor' to qualify as an improvementess.\n",
        "    patience = 3, # epochs with no improvement after which training will be stopped.\n",
        "    )\n",
        "\n",
        "history1 = model1.fit(train_images, train_labels,\n",
        "                      epochs = 60,\n",
        "                      callbacks=[callback],\n",
        "                      validation_split = 0.2,\n",
        "                      )"
      ],
      "metadata": {
        "colab": {
          "base_uri": "https://localhost:8080/"
        },
        "id": "XHRBVcIWHvM9",
        "outputId": "a42620b9-5e06-4de4-b098-37ec93792165"
      },
      "execution_count": null,
      "outputs": [
        {
          "output_type": "stream",
          "name": "stdout",
          "text": [
            "Epoch 1/60\n",
            "1/9 [==>...........................] - ETA: 0s - loss: 0.0731 - accuracy: 1.0000WARNING:tensorflow:Early stopping conditioned on metric `acc` which is not available. Available metrics are: loss,accuracy,val_loss,val_accuracy\n",
            "9/9 [==============================] - 0s 11ms/step - loss: 0.0780 - accuracy: 0.9859 - val_loss: 0.3654 - val_accuracy: 0.8750\n",
            "Epoch 2/60\n",
            "1/9 [==>...........................] - ETA: 0s - loss: 0.1239 - accuracy: 0.9688WARNING:tensorflow:Early stopping conditioned on metric `acc` which is not available. Available metrics are: loss,accuracy,val_loss,val_accuracy\n",
            "9/9 [==============================] - 0s 7ms/step - loss: 0.0776 - accuracy: 0.9859 - val_loss: 0.3657 - val_accuracy: 0.8750\n",
            "Epoch 3/60\n",
            "1/9 [==>...........................] - ETA: 0s - loss: 0.0346 - accuracy: 1.0000WARNING:tensorflow:Early stopping conditioned on metric `acc` which is not available. Available metrics are: loss,accuracy,val_loss,val_accuracy\n",
            "9/9 [==============================] - 0s 8ms/step - loss: 0.0776 - accuracy: 0.9859 - val_loss: 0.3659 - val_accuracy: 0.8750\n",
            "Epoch 4/60\n",
            "1/9 [==>...........................] - ETA: 0s - loss: 0.0846 - accuracy: 1.0000WARNING:tensorflow:Early stopping conditioned on metric `acc` which is not available. Available metrics are: loss,accuracy,val_loss,val_accuracy\n",
            "9/9 [==============================] - 0s 9ms/step - loss: 0.0774 - accuracy: 0.9859 - val_loss: 0.3660 - val_accuracy: 0.8750\n",
            "Epoch 5/60\n",
            "1/9 [==>...........................] - ETA: 0s - loss: 0.0570 - accuracy: 1.0000WARNING:tensorflow:Early stopping conditioned on metric `acc` which is not available. Available metrics are: loss,accuracy,val_loss,val_accuracy\n",
            "9/9 [==============================] - 0s 7ms/step - loss: 0.0772 - accuracy: 0.9859 - val_loss: 0.3659 - val_accuracy: 0.8750\n",
            "Epoch 6/60\n",
            "1/9 [==>...........................] - ETA: 0s - loss: 0.0742 - accuracy: 1.0000WARNING:tensorflow:Early stopping conditioned on metric `acc` which is not available. Available metrics are: loss,accuracy,val_loss,val_accuracy\n",
            "9/9 [==============================] - 0s 7ms/step - loss: 0.0770 - accuracy: 0.9859 - val_loss: 0.3662 - val_accuracy: 0.8750\n",
            "Epoch 7/60\n",
            "1/9 [==>...........................] - ETA: 0s - loss: 0.0581 - accuracy: 0.9688WARNING:tensorflow:Early stopping conditioned on metric `acc` which is not available. Available metrics are: loss,accuracy,val_loss,val_accuracy\n",
            "9/9 [==============================] - 0s 6ms/step - loss: 0.0769 - accuracy: 0.9859 - val_loss: 0.3663 - val_accuracy: 0.8750\n",
            "Epoch 8/60\n",
            "1/9 [==>...........................] - ETA: 0s - loss: 0.0496 - accuracy: 1.0000WARNING:tensorflow:Early stopping conditioned on metric `acc` which is not available. Available metrics are: loss,accuracy,val_loss,val_accuracy\n",
            "9/9 [==============================] - 0s 8ms/step - loss: 0.0766 - accuracy: 0.9859 - val_loss: 0.3663 - val_accuracy: 0.8750\n",
            "Epoch 9/60\n",
            "1/9 [==>...........................] - ETA: 0s - loss: 0.0630 - accuracy: 0.9688WARNING:tensorflow:Early stopping conditioned on metric `acc` which is not available. Available metrics are: loss,accuracy,val_loss,val_accuracy\n",
            "9/9 [==============================] - 0s 9ms/step - loss: 0.0763 - accuracy: 0.9859 - val_loss: 0.3666 - val_accuracy: 0.8750\n",
            "Epoch 10/60\n",
            "1/9 [==>...........................] - ETA: 0s - loss: 0.1006 - accuracy: 0.9688WARNING:tensorflow:Early stopping conditioned on metric `acc` which is not available. Available metrics are: loss,accuracy,val_loss,val_accuracy\n",
            "9/9 [==============================] - 0s 9ms/step - loss: 0.0762 - accuracy: 0.9859 - val_loss: 0.3667 - val_accuracy: 0.8750\n",
            "Epoch 11/60\n",
            "1/9 [==>...........................] - ETA: 0s - loss: 0.0886 - accuracy: 0.9688WARNING:tensorflow:Early stopping conditioned on metric `acc` which is not available. Available metrics are: loss,accuracy,val_loss,val_accuracy\n",
            "9/9 [==============================] - 0s 8ms/step - loss: 0.0762 - accuracy: 0.9859 - val_loss: 0.3669 - val_accuracy: 0.8750\n",
            "Epoch 12/60\n",
            "1/9 [==>...........................] - ETA: 0s - loss: 0.0746 - accuracy: 1.0000WARNING:tensorflow:Early stopping conditioned on metric `acc` which is not available. Available metrics are: loss,accuracy,val_loss,val_accuracy\n",
            "9/9 [==============================] - 0s 7ms/step - loss: 0.0759 - accuracy: 0.9859 - val_loss: 0.3669 - val_accuracy: 0.8750\n",
            "Epoch 13/60\n",
            "1/9 [==>...........................] - ETA: 0s - loss: 0.0606 - accuracy: 1.0000WARNING:tensorflow:Early stopping conditioned on metric `acc` which is not available. Available metrics are: loss,accuracy,val_loss,val_accuracy\n",
            "9/9 [==============================] - 0s 6ms/step - loss: 0.0756 - accuracy: 0.9859 - val_loss: 0.3670 - val_accuracy: 0.8750\n",
            "Epoch 14/60\n",
            "1/9 [==>...........................] - ETA: 0s - loss: 0.0725 - accuracy: 1.0000WARNING:tensorflow:Early stopping conditioned on metric `acc` which is not available. Available metrics are: loss,accuracy,val_loss,val_accuracy\n",
            "9/9 [==============================] - 0s 7ms/step - loss: 0.0756 - accuracy: 0.9859 - val_loss: 0.3672 - val_accuracy: 0.8750\n",
            "Epoch 15/60\n",
            "1/9 [==>...........................] - ETA: 0s - loss: 0.0624 - accuracy: 1.0000WARNING:tensorflow:Early stopping conditioned on metric `acc` which is not available. Available metrics are: loss,accuracy,val_loss,val_accuracy\n",
            "9/9 [==============================] - 0s 7ms/step - loss: 0.0754 - accuracy: 0.9859 - val_loss: 0.3670 - val_accuracy: 0.8750\n",
            "Epoch 16/60\n",
            "1/9 [==>...........................] - ETA: 0s - loss: 0.1171 - accuracy: 0.9375WARNING:tensorflow:Early stopping conditioned on metric `acc` which is not available. Available metrics are: loss,accuracy,val_loss,val_accuracy\n",
            "9/9 [==============================] - 0s 9ms/step - loss: 0.0754 - accuracy: 0.9859 - val_loss: 0.3674 - val_accuracy: 0.8750\n",
            "Epoch 17/60\n",
            "1/9 [==>...........................] - ETA: 0s - loss: 0.0591 - accuracy: 1.0000WARNING:tensorflow:Early stopping conditioned on metric `acc` which is not available. Available metrics are: loss,accuracy,val_loss,val_accuracy\n",
            "9/9 [==============================] - 0s 7ms/step - loss: 0.0749 - accuracy: 0.9859 - val_loss: 0.3673 - val_accuracy: 0.8750\n",
            "Epoch 18/60\n",
            "1/9 [==>...........................] - ETA: 0s - loss: 0.0522 - accuracy: 1.0000WARNING:tensorflow:Early stopping conditioned on metric `acc` which is not available. Available metrics are: loss,accuracy,val_loss,val_accuracy\n",
            "9/9 [==============================] - 0s 7ms/step - loss: 0.0748 - accuracy: 0.9859 - val_loss: 0.3671 - val_accuracy: 0.8750\n",
            "Epoch 19/60\n",
            "1/9 [==>...........................] - ETA: 0s - loss: 0.0605 - accuracy: 1.0000WARNING:tensorflow:Early stopping conditioned on metric `acc` which is not available. Available metrics are: loss,accuracy,val_loss,val_accuracy\n",
            "9/9 [==============================] - 0s 6ms/step - loss: 0.0748 - accuracy: 0.9859 - val_loss: 0.3676 - val_accuracy: 0.8750\n",
            "Epoch 20/60\n",
            "1/9 [==>...........................] - ETA: 0s - loss: 0.1424 - accuracy: 0.9375WARNING:tensorflow:Early stopping conditioned on metric `acc` which is not available. Available metrics are: loss,accuracy,val_loss,val_accuracy\n",
            "9/9 [==============================] - 0s 9ms/step - loss: 0.0746 - accuracy: 0.9859 - val_loss: 0.3681 - val_accuracy: 0.8750\n",
            "Epoch 21/60\n",
            "1/9 [==>...........................] - ETA: 0s - loss: 0.0509 - accuracy: 1.0000WARNING:tensorflow:Early stopping conditioned on metric `acc` which is not available. Available metrics are: loss,accuracy,val_loss,val_accuracy\n",
            "9/9 [==============================] - 0s 7ms/step - loss: 0.0741 - accuracy: 0.9859 - val_loss: 0.3683 - val_accuracy: 0.8750\n",
            "Epoch 22/60\n",
            "1/9 [==>...........................] - ETA: 0s - loss: 0.1000 - accuracy: 1.0000WARNING:tensorflow:Early stopping conditioned on metric `acc` which is not available. Available metrics are: loss,accuracy,val_loss,val_accuracy\n",
            "9/9 [==============================] - 0s 7ms/step - loss: 0.0742 - accuracy: 0.9859 - val_loss: 0.3686 - val_accuracy: 0.8750\n",
            "Epoch 23/60\n",
            "1/9 [==>...........................] - ETA: 0s - loss: 0.1434 - accuracy: 0.9375WARNING:tensorflow:Early stopping conditioned on metric `acc` which is not available. Available metrics are: loss,accuracy,val_loss,val_accuracy\n",
            "9/9 [==============================] - 0s 7ms/step - loss: 0.0740 - accuracy: 0.9859 - val_loss: 0.3683 - val_accuracy: 0.8750\n",
            "Epoch 24/60\n",
            "1/9 [==>...........................] - ETA: 0s - loss: 0.0553 - accuracy: 1.0000WARNING:tensorflow:Early stopping conditioned on metric `acc` which is not available. Available metrics are: loss,accuracy,val_loss,val_accuracy\n",
            "9/9 [==============================] - 0s 6ms/step - loss: 0.0737 - accuracy: 0.9859 - val_loss: 0.3682 - val_accuracy: 0.8750\n",
            "Epoch 25/60\n",
            "1/9 [==>...........................] - ETA: 0s - loss: 0.1001 - accuracy: 0.9688WARNING:tensorflow:Early stopping conditioned on metric `acc` which is not available. Available metrics are: loss,accuracy,val_loss,val_accuracy\n",
            "9/9 [==============================] - 0s 7ms/step - loss: 0.0734 - accuracy: 0.9859 - val_loss: 0.3687 - val_accuracy: 0.8750\n",
            "Epoch 26/60\n",
            "1/9 [==>...........................] - ETA: 0s - loss: 0.0851 - accuracy: 0.9688WARNING:tensorflow:Early stopping conditioned on metric `acc` which is not available. Available metrics are: loss,accuracy,val_loss,val_accuracy\n",
            "9/9 [==============================] - 0s 7ms/step - loss: 0.0733 - accuracy: 0.9859 - val_loss: 0.3686 - val_accuracy: 0.8750\n",
            "Epoch 27/60\n",
            "1/9 [==>...........................] - ETA: 0s - loss: 0.0829 - accuracy: 0.9688WARNING:tensorflow:Early stopping conditioned on metric `acc` which is not available. Available metrics are: loss,accuracy,val_loss,val_accuracy\n",
            "9/9 [==============================] - 0s 7ms/step - loss: 0.0732 - accuracy: 0.9859 - val_loss: 0.3689 - val_accuracy: 0.8750\n",
            "Epoch 28/60\n",
            "1/9 [==>...........................] - ETA: 0s - loss: 0.0367 - accuracy: 1.0000WARNING:tensorflow:Early stopping conditioned on metric `acc` which is not available. Available metrics are: loss,accuracy,val_loss,val_accuracy\n",
            "9/9 [==============================] - 0s 7ms/step - loss: 0.0731 - accuracy: 0.9859 - val_loss: 0.3689 - val_accuracy: 0.8750\n",
            "Epoch 29/60\n",
            "1/9 [==>...........................] - ETA: 0s - loss: 0.0515 - accuracy: 1.0000WARNING:tensorflow:Early stopping conditioned on metric `acc` which is not available. Available metrics are: loss,accuracy,val_loss,val_accuracy\n",
            "9/9 [==============================] - 0s 10ms/step - loss: 0.0729 - accuracy: 0.9859 - val_loss: 0.3690 - val_accuracy: 0.8750\n",
            "Epoch 30/60\n",
            "1/9 [==>...........................] - ETA: 0s - loss: 0.0378 - accuracy: 1.0000WARNING:tensorflow:Early stopping conditioned on metric `acc` which is not available. Available metrics are: loss,accuracy,val_loss,val_accuracy\n",
            "9/9 [==============================] - 0s 9ms/step - loss: 0.0726 - accuracy: 0.9859 - val_loss: 0.3693 - val_accuracy: 0.8750\n",
            "Epoch 31/60\n",
            "1/9 [==>...........................] - ETA: 0s - loss: 0.0460 - accuracy: 1.0000WARNING:tensorflow:Early stopping conditioned on metric `acc` which is not available. Available metrics are: loss,accuracy,val_loss,val_accuracy\n",
            "9/9 [==============================] - 0s 7ms/step - loss: 0.0723 - accuracy: 0.9859 - val_loss: 0.3694 - val_accuracy: 0.8750\n",
            "Epoch 32/60\n",
            "1/9 [==>...........................] - ETA: 0s - loss: 0.0356 - accuracy: 1.0000WARNING:tensorflow:Early stopping conditioned on metric `acc` which is not available. Available metrics are: loss,accuracy,val_loss,val_accuracy\n",
            "9/9 [==============================] - 0s 7ms/step - loss: 0.0725 - accuracy: 0.9859 - val_loss: 0.3696 - val_accuracy: 0.8750\n",
            "Epoch 33/60\n",
            "1/9 [==>...........................] - ETA: 0s - loss: 0.0428 - accuracy: 1.0000WARNING:tensorflow:Early stopping conditioned on metric `acc` which is not available. Available metrics are: loss,accuracy,val_loss,val_accuracy\n",
            "9/9 [==============================] - 0s 7ms/step - loss: 0.0720 - accuracy: 0.9859 - val_loss: 0.3692 - val_accuracy: 0.8750\n",
            "Epoch 34/60\n",
            "1/9 [==>...........................] - ETA: 0s - loss: 0.0690 - accuracy: 1.0000WARNING:tensorflow:Early stopping conditioned on metric `acc` which is not available. Available metrics are: loss,accuracy,val_loss,val_accuracy\n",
            "9/9 [==============================] - 0s 7ms/step - loss: 0.0722 - accuracy: 0.9859 - val_loss: 0.3697 - val_accuracy: 0.8750\n",
            "Epoch 35/60\n",
            "1/9 [==>...........................] - ETA: 0s - loss: 0.0878 - accuracy: 0.9688WARNING:tensorflow:Early stopping conditioned on metric `acc` which is not available. Available metrics are: loss,accuracy,val_loss,val_accuracy\n",
            "9/9 [==============================] - 0s 8ms/step - loss: 0.0718 - accuracy: 0.9859 - val_loss: 0.3700 - val_accuracy: 0.8750\n",
            "Epoch 36/60\n",
            "1/9 [==>...........................] - ETA: 0s - loss: 0.0694 - accuracy: 1.0000WARNING:tensorflow:Early stopping conditioned on metric `acc` which is not available. Available metrics are: loss,accuracy,val_loss,val_accuracy\n",
            "9/9 [==============================] - 0s 8ms/step - loss: 0.0716 - accuracy: 0.9859 - val_loss: 0.3700 - val_accuracy: 0.8750\n",
            "Epoch 37/60\n",
            "1/9 [==>...........................] - ETA: 0s - loss: 0.0540 - accuracy: 1.0000WARNING:tensorflow:Early stopping conditioned on metric `acc` which is not available. Available metrics are: loss,accuracy,val_loss,val_accuracy\n",
            "9/9 [==============================] - 0s 8ms/step - loss: 0.0716 - accuracy: 0.9859 - val_loss: 0.3697 - val_accuracy: 0.8750\n",
            "Epoch 38/60\n",
            "1/9 [==>...........................] - ETA: 0s - loss: 0.1357 - accuracy: 0.9375WARNING:tensorflow:Early stopping conditioned on metric `acc` which is not available. Available metrics are: loss,accuracy,val_loss,val_accuracy\n",
            "9/9 [==============================] - 0s 11ms/step - loss: 0.0713 - accuracy: 0.9859 - val_loss: 0.3700 - val_accuracy: 0.8750\n",
            "Epoch 39/60\n",
            "1/9 [==>...........................] - ETA: 0s - loss: 0.0757 - accuracy: 0.9688WARNING:tensorflow:Early stopping conditioned on metric `acc` which is not available. Available metrics are: loss,accuracy,val_loss,val_accuracy\n",
            "9/9 [==============================] - 0s 9ms/step - loss: 0.0711 - accuracy: 0.9859 - val_loss: 0.3702 - val_accuracy: 0.8750\n",
            "Epoch 40/60\n",
            "1/9 [==>...........................] - ETA: 0s - loss: 0.0530 - accuracy: 1.0000WARNING:tensorflow:Early stopping conditioned on metric `acc` which is not available. Available metrics are: loss,accuracy,val_loss,val_accuracy\n",
            "9/9 [==============================] - 0s 7ms/step - loss: 0.0711 - accuracy: 0.9859 - val_loss: 0.3703 - val_accuracy: 0.8750\n",
            "Epoch 41/60\n",
            "1/9 [==>...........................] - ETA: 0s - loss: 0.0622 - accuracy: 1.0000WARNING:tensorflow:Early stopping conditioned on metric `acc` which is not available. Available metrics are: loss,accuracy,val_loss,val_accuracy\n",
            "9/9 [==============================] - 0s 7ms/step - loss: 0.0709 - accuracy: 0.9859 - val_loss: 0.3703 - val_accuracy: 0.8750\n",
            "Epoch 42/60\n",
            "1/9 [==>...........................] - ETA: 0s - loss: 0.0982 - accuracy: 0.9375WARNING:tensorflow:Early stopping conditioned on metric `acc` which is not available. Available metrics are: loss,accuracy,val_loss,val_accuracy\n",
            "9/9 [==============================] - 0s 7ms/step - loss: 0.0707 - accuracy: 0.9859 - val_loss: 0.3706 - val_accuracy: 0.8750\n",
            "Epoch 43/60\n",
            "1/9 [==>...........................] - ETA: 0s - loss: 0.0623 - accuracy: 1.0000WARNING:tensorflow:Early stopping conditioned on metric `acc` which is not available. Available metrics are: loss,accuracy,val_loss,val_accuracy\n",
            "9/9 [==============================] - 0s 7ms/step - loss: 0.0707 - accuracy: 0.9859 - val_loss: 0.3705 - val_accuracy: 0.8750\n",
            "Epoch 44/60\n",
            "1/9 [==>...........................] - ETA: 0s - loss: 0.0899 - accuracy: 0.9688WARNING:tensorflow:Early stopping conditioned on metric `acc` which is not available. Available metrics are: loss,accuracy,val_loss,val_accuracy\n",
            "9/9 [==============================] - 0s 9ms/step - loss: 0.0704 - accuracy: 0.9859 - val_loss: 0.3707 - val_accuracy: 0.8750\n",
            "Epoch 45/60\n",
            "1/9 [==>...........................] - ETA: 0s - loss: 0.0658 - accuracy: 1.0000WARNING:tensorflow:Early stopping conditioned on metric `acc` which is not available. Available metrics are: loss,accuracy,val_loss,val_accuracy\n",
            "9/9 [==============================] - 0s 7ms/step - loss: 0.0702 - accuracy: 0.9859 - val_loss: 0.3705 - val_accuracy: 0.8750\n",
            "Epoch 46/60\n",
            "1/9 [==>...........................] - ETA: 0s - loss: 0.0902 - accuracy: 0.9688WARNING:tensorflow:Early stopping conditioned on metric `acc` which is not available. Available metrics are: loss,accuracy,val_loss,val_accuracy\n",
            "9/9 [==============================] - 0s 7ms/step - loss: 0.0700 - accuracy: 0.9859 - val_loss: 0.3708 - val_accuracy: 0.8750\n",
            "Epoch 47/60\n",
            "1/9 [==>...........................] - ETA: 0s - loss: 0.0520 - accuracy: 1.0000WARNING:tensorflow:Early stopping conditioned on metric `acc` which is not available. Available metrics are: loss,accuracy,val_loss,val_accuracy\n",
            "9/9 [==============================] - 0s 7ms/step - loss: 0.0699 - accuracy: 0.9859 - val_loss: 0.3711 - val_accuracy: 0.8750\n",
            "Epoch 48/60\n",
            "1/9 [==>...........................] - ETA: 0s - loss: 0.0431 - accuracy: 1.0000WARNING:tensorflow:Early stopping conditioned on metric `acc` which is not available. Available metrics are: loss,accuracy,val_loss,val_accuracy\n",
            "9/9 [==============================] - 0s 7ms/step - loss: 0.0698 - accuracy: 0.9859 - val_loss: 0.3715 - val_accuracy: 0.8750\n",
            "Epoch 49/60\n",
            "1/9 [==>...........................] - ETA: 0s - loss: 0.0791 - accuracy: 0.9688WARNING:tensorflow:Early stopping conditioned on metric `acc` which is not available. Available metrics are: loss,accuracy,val_loss,val_accuracy\n",
            "9/9 [==============================] - 0s 8ms/step - loss: 0.0696 - accuracy: 0.9859 - val_loss: 0.3712 - val_accuracy: 0.8750\n",
            "Epoch 50/60\n",
            "1/9 [==>...........................] - ETA: 0s - loss: 0.1266 - accuracy: 0.9375WARNING:tensorflow:Early stopping conditioned on metric `acc` which is not available. Available metrics are: loss,accuracy,val_loss,val_accuracy\n",
            "9/9 [==============================] - 0s 9ms/step - loss: 0.0696 - accuracy: 0.9859 - val_loss: 0.3716 - val_accuracy: 0.8750\n",
            "Epoch 51/60\n",
            "1/9 [==>...........................] - ETA: 0s - loss: 0.0676 - accuracy: 1.0000WARNING:tensorflow:Early stopping conditioned on metric `acc` which is not available. Available metrics are: loss,accuracy,val_loss,val_accuracy\n",
            "9/9 [==============================] - 0s 9ms/step - loss: 0.0694 - accuracy: 0.9859 - val_loss: 0.3715 - val_accuracy: 0.8750\n",
            "Epoch 52/60\n",
            "1/9 [==>...........................] - ETA: 0s - loss: 0.0344 - accuracy: 1.0000WARNING:tensorflow:Early stopping conditioned on metric `acc` which is not available. Available metrics are: loss,accuracy,val_loss,val_accuracy\n",
            "9/9 [==============================] - 0s 8ms/step - loss: 0.0690 - accuracy: 0.9859 - val_loss: 0.3717 - val_accuracy: 0.8750\n",
            "Epoch 53/60\n",
            "1/9 [==>...........................] - ETA: 0s - loss: 0.0436 - accuracy: 1.0000WARNING:tensorflow:Early stopping conditioned on metric `acc` which is not available. Available metrics are: loss,accuracy,val_loss,val_accuracy\n",
            "9/9 [==============================] - 0s 7ms/step - loss: 0.0689 - accuracy: 0.9859 - val_loss: 0.3718 - val_accuracy: 0.8750\n",
            "Epoch 54/60\n",
            "1/9 [==>...........................] - ETA: 0s - loss: 0.0665 - accuracy: 1.0000WARNING:tensorflow:Early stopping conditioned on metric `acc` which is not available. Available metrics are: loss,accuracy,val_loss,val_accuracy\n",
            "9/9 [==============================] - 0s 7ms/step - loss: 0.0687 - accuracy: 0.9859 - val_loss: 0.3718 - val_accuracy: 0.8750\n",
            "Epoch 55/60\n",
            "1/9 [==>...........................] - ETA: 0s - loss: 0.0799 - accuracy: 1.0000WARNING:tensorflow:Early stopping conditioned on metric `acc` which is not available. Available metrics are: loss,accuracy,val_loss,val_accuracy\n",
            "9/9 [==============================] - 0s 7ms/step - loss: 0.0684 - accuracy: 0.9859 - val_loss: 0.3719 - val_accuracy: 0.8750\n",
            "Epoch 56/60\n",
            "1/9 [==>...........................] - ETA: 0s - loss: 0.0595 - accuracy: 1.0000WARNING:tensorflow:Early stopping conditioned on metric `acc` which is not available. Available metrics are: loss,accuracy,val_loss,val_accuracy\n",
            "9/9 [==============================] - 0s 7ms/step - loss: 0.0683 - accuracy: 0.9859 - val_loss: 0.3720 - val_accuracy: 0.8750\n",
            "Epoch 57/60\n",
            "1/9 [==>...........................] - ETA: 0s - loss: 0.0745 - accuracy: 1.0000WARNING:tensorflow:Early stopping conditioned on metric `acc` which is not available. Available metrics are: loss,accuracy,val_loss,val_accuracy\n",
            "9/9 [==============================] - 0s 7ms/step - loss: 0.0684 - accuracy: 0.9859 - val_loss: 0.3719 - val_accuracy: 0.8750\n",
            "Epoch 58/60\n",
            "1/9 [==>...........................] - ETA: 0s - loss: 0.0241 - accuracy: 1.0000WARNING:tensorflow:Early stopping conditioned on metric `acc` which is not available. Available metrics are: loss,accuracy,val_loss,val_accuracy\n",
            "9/9 [==============================] - 0s 9ms/step - loss: 0.0682 - accuracy: 0.9859 - val_loss: 0.3722 - val_accuracy: 0.8750\n",
            "Epoch 59/60\n",
            "1/9 [==>...........................] - ETA: 0s - loss: 0.1049 - accuracy: 0.9688WARNING:tensorflow:Early stopping conditioned on metric `acc` which is not available. Available metrics are: loss,accuracy,val_loss,val_accuracy\n",
            "9/9 [==============================] - 0s 7ms/step - loss: 0.0680 - accuracy: 0.9894 - val_loss: 0.3726 - val_accuracy: 0.8750\n",
            "Epoch 60/60\n",
            "1/9 [==>...........................] - ETA: 0s - loss: 0.0632 - accuracy: 1.0000WARNING:tensorflow:Early stopping conditioned on metric `acc` which is not available. Available metrics are: loss,accuracy,val_loss,val_accuracy\n",
            "9/9 [==============================] - 0s 9ms/step - loss: 0.0677 - accuracy: 0.9859 - val_loss: 0.3727 - val_accuracy: 0.8750\n"
          ]
        }
      ]
    },
    {
      "cell_type": "code",
      "source": [
        "print(\"Stop at epoch\", len(history1.history['loss']))"
      ],
      "metadata": {
        "colab": {
          "base_uri": "https://localhost:8080/"
        },
        "id": "m3np4P_0IPAx",
        "outputId": "eb6180e5-6aca-483e-eb88-c4f03e183e07"
      },
      "execution_count": null,
      "outputs": [
        {
          "output_type": "stream",
          "name": "stdout",
          "text": [
            "Stop at epoch 20\n"
          ]
        }
      ]
    },
    {
      "cell_type": "code",
      "source": [
        "history2 = model1.fit(train_images, train_labels,\n",
        "                      epochs = 60,\n",
        "                      callbacks=[callback],\n",
        "                      validation_split = 0.2,\n",
        "                      )"
      ],
      "metadata": {
        "colab": {
          "base_uri": "https://localhost:8080/"
        },
        "id": "Q13OBTkyIcLw",
        "outputId": "bd4a0f1b-80e0-4e0c-85ca-8a55c12496d5"
      },
      "execution_count": null,
      "outputs": [
        {
          "output_type": "stream",
          "name": "stdout",
          "text": [
            "Epoch 1/60\n",
            "1/9 [==>...........................] - ETA: 0s - loss: 0.1129 - accuracy: 0.9688WARNING:tensorflow:Early stopping conditioned on metric `acc` which is not available. Available metrics are: loss,accuracy,val_loss,val_accuracy\n",
            "9/9 [==============================] - 0s 10ms/step - loss: 0.0675 - accuracy: 0.9859 - val_loss: 0.3728 - val_accuracy: 0.8750\n",
            "Epoch 2/60\n",
            "1/9 [==>...........................] - ETA: 0s - loss: 0.0290 - accuracy: 1.0000WARNING:tensorflow:Early stopping conditioned on metric `acc` which is not available. Available metrics are: loss,accuracy,val_loss,val_accuracy\n",
            "9/9 [==============================] - 0s 7ms/step - loss: 0.0675 - accuracy: 0.9894 - val_loss: 0.3730 - val_accuracy: 0.8750\n",
            "Epoch 3/60\n",
            "1/9 [==>...........................] - ETA: 0s - loss: 0.0417 - accuracy: 1.0000WARNING:tensorflow:Early stopping conditioned on metric `acc` which is not available. Available metrics are: loss,accuracy,val_loss,val_accuracy\n",
            "9/9 [==============================] - 0s 6ms/step - loss: 0.0673 - accuracy: 0.9894 - val_loss: 0.3729 - val_accuracy: 0.8750\n",
            "Epoch 4/60\n",
            "1/9 [==>...........................] - ETA: 0s - loss: 0.0540 - accuracy: 1.0000WARNING:tensorflow:Early stopping conditioned on metric `acc` which is not available. Available metrics are: loss,accuracy,val_loss,val_accuracy\n",
            "9/9 [==============================] - 0s 6ms/step - loss: 0.0676 - accuracy: 0.9859 - val_loss: 0.3731 - val_accuracy: 0.8750\n",
            "Epoch 5/60\n",
            "1/9 [==>...........................] - ETA: 0s - loss: 0.0784 - accuracy: 1.0000WARNING:tensorflow:Early stopping conditioned on metric `acc` which is not available. Available metrics are: loss,accuracy,val_loss,val_accuracy\n",
            "9/9 [==============================] - 0s 6ms/step - loss: 0.0670 - accuracy: 0.9894 - val_loss: 0.3730 - val_accuracy: 0.8750\n",
            "Epoch 6/60\n",
            "1/9 [==>...........................] - ETA: 0s - loss: 0.0644 - accuracy: 1.0000WARNING:tensorflow:Early stopping conditioned on metric `acc` which is not available. Available metrics are: loss,accuracy,val_loss,val_accuracy\n",
            "9/9 [==============================] - 0s 7ms/step - loss: 0.0668 - accuracy: 0.9859 - val_loss: 0.3730 - val_accuracy: 0.8750\n",
            "Epoch 7/60\n",
            "1/9 [==>...........................] - ETA: 0s - loss: 0.0462 - accuracy: 1.0000WARNING:tensorflow:Early stopping conditioned on metric `acc` which is not available. Available metrics are: loss,accuracy,val_loss,val_accuracy\n",
            "9/9 [==============================] - 0s 8ms/step - loss: 0.0668 - accuracy: 0.9894 - val_loss: 0.3730 - val_accuracy: 0.8750\n",
            "Epoch 8/60\n",
            "1/9 [==>...........................] - ETA: 0s - loss: 0.0721 - accuracy: 1.0000WARNING:tensorflow:Early stopping conditioned on metric `acc` which is not available. Available metrics are: loss,accuracy,val_loss,val_accuracy\n",
            "9/9 [==============================] - 0s 7ms/step - loss: 0.0665 - accuracy: 0.9894 - val_loss: 0.3732 - val_accuracy: 0.8750\n",
            "Epoch 9/60\n",
            "1/9 [==>...........................] - ETA: 0s - loss: 0.0348 - accuracy: 1.0000WARNING:tensorflow:Early stopping conditioned on metric `acc` which is not available. Available metrics are: loss,accuracy,val_loss,val_accuracy\n",
            "9/9 [==============================] - 0s 6ms/step - loss: 0.0665 - accuracy: 0.9894 - val_loss: 0.3731 - val_accuracy: 0.8750\n",
            "Epoch 10/60\n",
            "1/9 [==>...........................] - ETA: 0s - loss: 0.0865 - accuracy: 0.9688WARNING:tensorflow:Early stopping conditioned on metric `acc` which is not available. Available metrics are: loss,accuracy,val_loss,val_accuracy\n",
            "9/9 [==============================] - 0s 7ms/step - loss: 0.0662 - accuracy: 0.9894 - val_loss: 0.3733 - val_accuracy: 0.8750\n",
            "Epoch 11/60\n",
            "1/9 [==>...........................] - ETA: 0s - loss: 0.0426 - accuracy: 1.0000WARNING:tensorflow:Early stopping conditioned on metric `acc` which is not available. Available metrics are: loss,accuracy,val_loss,val_accuracy\n",
            "9/9 [==============================] - 0s 7ms/step - loss: 0.0662 - accuracy: 0.9894 - val_loss: 0.3733 - val_accuracy: 0.8750\n",
            "Epoch 12/60\n",
            "1/9 [==>...........................] - ETA: 0s - loss: 0.0779 - accuracy: 1.0000WARNING:tensorflow:Early stopping conditioned on metric `acc` which is not available. Available metrics are: loss,accuracy,val_loss,val_accuracy\n",
            "9/9 [==============================] - 0s 9ms/step - loss: 0.0661 - accuracy: 0.9894 - val_loss: 0.3737 - val_accuracy: 0.8750\n",
            "Epoch 13/60\n",
            "1/9 [==>...........................] - ETA: 0s - loss: 0.0799 - accuracy: 0.9688WARNING:tensorflow:Early stopping conditioned on metric `acc` which is not available. Available metrics are: loss,accuracy,val_loss,val_accuracy\n",
            "9/9 [==============================] - 0s 8ms/step - loss: 0.0660 - accuracy: 0.9894 - val_loss: 0.3742 - val_accuracy: 0.8750\n",
            "Epoch 14/60\n",
            "1/9 [==>...........................] - ETA: 0s - loss: 0.0556 - accuracy: 1.0000WARNING:tensorflow:Early stopping conditioned on metric `acc` which is not available. Available metrics are: loss,accuracy,val_loss,val_accuracy\n",
            "9/9 [==============================] - 0s 9ms/step - loss: 0.0656 - accuracy: 0.9894 - val_loss: 0.3740 - val_accuracy: 0.8750\n",
            "Epoch 15/60\n",
            "1/9 [==>...........................] - ETA: 0s - loss: 0.1411 - accuracy: 0.9688WARNING:tensorflow:Early stopping conditioned on metric `acc` which is not available. Available metrics are: loss,accuracy,val_loss,val_accuracy\n",
            "9/9 [==============================] - 0s 8ms/step - loss: 0.0656 - accuracy: 0.9894 - val_loss: 0.3739 - val_accuracy: 0.8750\n",
            "Epoch 16/60\n",
            "1/9 [==>...........................] - ETA: 0s - loss: 0.1416 - accuracy: 0.9375WARNING:tensorflow:Early stopping conditioned on metric `acc` which is not available. Available metrics are: loss,accuracy,val_loss,val_accuracy\n",
            "9/9 [==============================] - 0s 7ms/step - loss: 0.0655 - accuracy: 0.9894 - val_loss: 0.3739 - val_accuracy: 0.8750\n",
            "Epoch 17/60\n",
            "1/9 [==>...........................] - ETA: 0s - loss: 0.0397 - accuracy: 1.0000WARNING:tensorflow:Early stopping conditioned on metric `acc` which is not available. Available metrics are: loss,accuracy,val_loss,val_accuracy\n",
            "9/9 [==============================] - 0s 6ms/step - loss: 0.0652 - accuracy: 0.9894 - val_loss: 0.3741 - val_accuracy: 0.8750\n",
            "Epoch 18/60\n",
            "1/9 [==>...........................] - ETA: 0s - loss: 0.0797 - accuracy: 0.9688WARNING:tensorflow:Early stopping conditioned on metric `acc` which is not available. Available metrics are: loss,accuracy,val_loss,val_accuracy\n",
            "9/9 [==============================] - 0s 6ms/step - loss: 0.0651 - accuracy: 0.9894 - val_loss: 0.3742 - val_accuracy: 0.8750\n",
            "Epoch 19/60\n",
            "1/9 [==>...........................] - ETA: 0s - loss: 0.0617 - accuracy: 0.9688WARNING:tensorflow:Early stopping conditioned on metric `acc` which is not available. Available metrics are: loss,accuracy,val_loss,val_accuracy\n",
            "9/9 [==============================] - 0s 8ms/step - loss: 0.0650 - accuracy: 0.9894 - val_loss: 0.3746 - val_accuracy: 0.8750\n",
            "Epoch 20/60\n",
            "1/9 [==>...........................] - ETA: 0s - loss: 0.0837 - accuracy: 0.9688WARNING:tensorflow:Early stopping conditioned on metric `acc` which is not available. Available metrics are: loss,accuracy,val_loss,val_accuracy\n",
            "9/9 [==============================] - 0s 6ms/step - loss: 0.0648 - accuracy: 0.9894 - val_loss: 0.3748 - val_accuracy: 0.8750\n",
            "Epoch 21/60\n",
            "1/9 [==>...........................] - ETA: 0s - loss: 0.0549 - accuracy: 1.0000WARNING:tensorflow:Early stopping conditioned on metric `acc` which is not available. Available metrics are: loss,accuracy,val_loss,val_accuracy\n",
            "9/9 [==============================] - 0s 7ms/step - loss: 0.0648 - accuracy: 0.9894 - val_loss: 0.3748 - val_accuracy: 0.8750\n",
            "Epoch 22/60\n",
            "1/9 [==>...........................] - ETA: 0s - loss: 0.0447 - accuracy: 1.0000WARNING:tensorflow:Early stopping conditioned on metric `acc` which is not available. Available metrics are: loss,accuracy,val_loss,val_accuracy\n",
            "9/9 [==============================] - 0s 8ms/step - loss: 0.0647 - accuracy: 0.9894 - val_loss: 0.3751 - val_accuracy: 0.8750\n",
            "Epoch 23/60\n",
            "1/9 [==>...........................] - ETA: 0s - loss: 0.0392 - accuracy: 1.0000WARNING:tensorflow:Early stopping conditioned on metric `acc` which is not available. Available metrics are: loss,accuracy,val_loss,val_accuracy\n",
            "9/9 [==============================] - 0s 6ms/step - loss: 0.0645 - accuracy: 0.9894 - val_loss: 0.3752 - val_accuracy: 0.8750\n",
            "Epoch 24/60\n",
            "1/9 [==>...........................] - ETA: 0s - loss: 0.0491 - accuracy: 1.0000WARNING:tensorflow:Early stopping conditioned on metric `acc` which is not available. Available metrics are: loss,accuracy,val_loss,val_accuracy\n",
            "9/9 [==============================] - 0s 8ms/step - loss: 0.0644 - accuracy: 0.9894 - val_loss: 0.3751 - val_accuracy: 0.8750\n",
            "Epoch 25/60\n",
            "1/9 [==>...........................] - ETA: 0s - loss: 0.0523 - accuracy: 1.0000WARNING:tensorflow:Early stopping conditioned on metric `acc` which is not available. Available metrics are: loss,accuracy,val_loss,val_accuracy\n",
            "9/9 [==============================] - 0s 6ms/step - loss: 0.0642 - accuracy: 0.9894 - val_loss: 0.3750 - val_accuracy: 0.8750\n",
            "Epoch 26/60\n",
            "1/9 [==>...........................] - ETA: 0s - loss: 0.0250 - accuracy: 1.0000WARNING:tensorflow:Early stopping conditioned on metric `acc` which is not available. Available metrics are: loss,accuracy,val_loss,val_accuracy\n",
            "9/9 [==============================] - 0s 6ms/step - loss: 0.0642 - accuracy: 0.9894 - val_loss: 0.3751 - val_accuracy: 0.8750\n",
            "Epoch 27/60\n",
            "1/9 [==>...........................] - ETA: 0s - loss: 0.0566 - accuracy: 0.9688WARNING:tensorflow:Early stopping conditioned on metric `acc` which is not available. Available metrics are: loss,accuracy,val_loss,val_accuracy\n",
            "9/9 [==============================] - 0s 7ms/step - loss: 0.0641 - accuracy: 0.9894 - val_loss: 0.3757 - val_accuracy: 0.8750\n",
            "Epoch 28/60\n",
            "1/9 [==>...........................] - ETA: 0s - loss: 0.1324 - accuracy: 0.9375WARNING:tensorflow:Early stopping conditioned on metric `acc` which is not available. Available metrics are: loss,accuracy,val_loss,val_accuracy\n",
            "9/9 [==============================] - 0s 7ms/step - loss: 0.0637 - accuracy: 0.9894 - val_loss: 0.3760 - val_accuracy: 0.8750\n",
            "Epoch 29/60\n",
            "1/9 [==>...........................] - ETA: 0s - loss: 0.0760 - accuracy: 1.0000WARNING:tensorflow:Early stopping conditioned on metric `acc` which is not available. Available metrics are: loss,accuracy,val_loss,val_accuracy\n",
            "9/9 [==============================] - 0s 8ms/step - loss: 0.0636 - accuracy: 0.9894 - val_loss: 0.3757 - val_accuracy: 0.8750\n",
            "Epoch 30/60\n",
            "1/9 [==>...........................] - ETA: 0s - loss: 0.0337 - accuracy: 1.0000WARNING:tensorflow:Early stopping conditioned on metric `acc` which is not available. Available metrics are: loss,accuracy,val_loss,val_accuracy\n",
            "9/9 [==============================] - 0s 7ms/step - loss: 0.0635 - accuracy: 0.9894 - val_loss: 0.3762 - val_accuracy: 0.8750\n",
            "Epoch 31/60\n",
            "1/9 [==>...........................] - ETA: 0s - loss: 0.0980 - accuracy: 0.9688WARNING:tensorflow:Early stopping conditioned on metric `acc` which is not available. Available metrics are: loss,accuracy,val_loss,val_accuracy\n",
            "9/9 [==============================] - 0s 7ms/step - loss: 0.0632 - accuracy: 0.9894 - val_loss: 0.3758 - val_accuracy: 0.8750\n",
            "Epoch 32/60\n",
            "1/9 [==>...........................] - ETA: 0s - loss: 0.0848 - accuracy: 0.9688WARNING:tensorflow:Early stopping conditioned on metric `acc` which is not available. Available metrics are: loss,accuracy,val_loss,val_accuracy\n",
            "9/9 [==============================] - 0s 8ms/step - loss: 0.0633 - accuracy: 0.9894 - val_loss: 0.3761 - val_accuracy: 0.8750\n",
            "Epoch 33/60\n",
            "1/9 [==>...........................] - ETA: 0s - loss: 0.0833 - accuracy: 0.9688WARNING:tensorflow:Early stopping conditioned on metric `acc` which is not available. Available metrics are: loss,accuracy,val_loss,val_accuracy\n",
            "9/9 [==============================] - 0s 7ms/step - loss: 0.0631 - accuracy: 0.9894 - val_loss: 0.3761 - val_accuracy: 0.8750\n",
            "Epoch 34/60\n",
            "1/9 [==>...........................] - ETA: 0s - loss: 0.0372 - accuracy: 1.0000WARNING:tensorflow:Early stopping conditioned on metric `acc` which is not available. Available metrics are: loss,accuracy,val_loss,val_accuracy\n",
            "9/9 [==============================] - 0s 8ms/step - loss: 0.0630 - accuracy: 0.9894 - val_loss: 0.3764 - val_accuracy: 0.8750\n",
            "Epoch 35/60\n",
            "1/9 [==>...........................] - ETA: 0s - loss: 0.1023 - accuracy: 0.9688WARNING:tensorflow:Early stopping conditioned on metric `acc` which is not available. Available metrics are: loss,accuracy,val_loss,val_accuracy\n",
            "9/9 [==============================] - 0s 8ms/step - loss: 0.0628 - accuracy: 0.9894 - val_loss: 0.3765 - val_accuracy: 0.8750\n",
            "Epoch 36/60\n",
            "1/9 [==>...........................] - ETA: 0s - loss: 0.1051 - accuracy: 0.9375WARNING:tensorflow:Early stopping conditioned on metric `acc` which is not available. Available metrics are: loss,accuracy,val_loss,val_accuracy\n",
            "9/9 [==============================] - 0s 7ms/step - loss: 0.0627 - accuracy: 0.9894 - val_loss: 0.3768 - val_accuracy: 0.8750\n",
            "Epoch 37/60\n",
            "1/9 [==>...........................] - ETA: 0s - loss: 0.0589 - accuracy: 1.0000WARNING:tensorflow:Early stopping conditioned on metric `acc` which is not available. Available metrics are: loss,accuracy,val_loss,val_accuracy\n",
            "9/9 [==============================] - 0s 8ms/step - loss: 0.0625 - accuracy: 0.9894 - val_loss: 0.3768 - val_accuracy: 0.8750\n",
            "Epoch 38/60\n",
            "1/9 [==>...........................] - ETA: 0s - loss: 0.0912 - accuracy: 0.9688WARNING:tensorflow:Early stopping conditioned on metric `acc` which is not available. Available metrics are: loss,accuracy,val_loss,val_accuracy\n",
            "9/9 [==============================] - 0s 6ms/step - loss: 0.0625 - accuracy: 0.9894 - val_loss: 0.3763 - val_accuracy: 0.8750\n",
            "Epoch 39/60\n",
            "1/9 [==>...........................] - ETA: 0s - loss: 0.0922 - accuracy: 0.9688WARNING:tensorflow:Early stopping conditioned on metric `acc` which is not available. Available metrics are: loss,accuracy,val_loss,val_accuracy\n",
            "9/9 [==============================] - 0s 9ms/step - loss: 0.0621 - accuracy: 0.9894 - val_loss: 0.3766 - val_accuracy: 0.8750\n",
            "Epoch 40/60\n",
            "1/9 [==>...........................] - ETA: 0s - loss: 0.0784 - accuracy: 1.0000WARNING:tensorflow:Early stopping conditioned on metric `acc` which is not available. Available metrics are: loss,accuracy,val_loss,val_accuracy\n",
            "9/9 [==============================] - 0s 6ms/step - loss: 0.0621 - accuracy: 0.9894 - val_loss: 0.3769 - val_accuracy: 0.8750\n",
            "Epoch 41/60\n",
            "1/9 [==>...........................] - ETA: 0s - loss: 0.0763 - accuracy: 1.0000WARNING:tensorflow:Early stopping conditioned on metric `acc` which is not available. Available metrics are: loss,accuracy,val_loss,val_accuracy\n",
            "9/9 [==============================] - 0s 7ms/step - loss: 0.0621 - accuracy: 0.9894 - val_loss: 0.3770 - val_accuracy: 0.8750\n",
            "Epoch 42/60\n",
            "1/9 [==>...........................] - ETA: 0s - loss: 0.0698 - accuracy: 1.0000WARNING:tensorflow:Early stopping conditioned on metric `acc` which is not available. Available metrics are: loss,accuracy,val_loss,val_accuracy\n",
            "9/9 [==============================] - 0s 7ms/step - loss: 0.0621 - accuracy: 0.9894 - val_loss: 0.3769 - val_accuracy: 0.8750\n",
            "Epoch 43/60\n",
            "1/9 [==>...........................] - ETA: 0s - loss: 0.0445 - accuracy: 1.0000WARNING:tensorflow:Early stopping conditioned on metric `acc` which is not available. Available metrics are: loss,accuracy,val_loss,val_accuracy\n",
            "9/9 [==============================] - 0s 8ms/step - loss: 0.0618 - accuracy: 0.9894 - val_loss: 0.3769 - val_accuracy: 0.8750\n",
            "Epoch 44/60\n",
            "1/9 [==>...........................] - ETA: 0s - loss: 0.0720 - accuracy: 0.9688WARNING:tensorflow:Early stopping conditioned on metric `acc` which is not available. Available metrics are: loss,accuracy,val_loss,val_accuracy\n",
            "9/9 [==============================] - 0s 10ms/step - loss: 0.0617 - accuracy: 0.9894 - val_loss: 0.3773 - val_accuracy: 0.8750\n",
            "Epoch 45/60\n",
            "1/9 [==>...........................] - ETA: 0s - loss: 0.0467 - accuracy: 1.0000WARNING:tensorflow:Early stopping conditioned on metric `acc` which is not available. Available metrics are: loss,accuracy,val_loss,val_accuracy\n",
            "9/9 [==============================] - 0s 7ms/step - loss: 0.0616 - accuracy: 0.9894 - val_loss: 0.3774 - val_accuracy: 0.8750\n",
            "Epoch 46/60\n",
            "1/9 [==>...........................] - ETA: 0s - loss: 0.0338 - accuracy: 1.0000WARNING:tensorflow:Early stopping conditioned on metric `acc` which is not available. Available metrics are: loss,accuracy,val_loss,val_accuracy\n",
            "9/9 [==============================] - 0s 7ms/step - loss: 0.0615 - accuracy: 0.9894 - val_loss: 0.3775 - val_accuracy: 0.8750\n",
            "Epoch 47/60\n",
            "1/9 [==>...........................] - ETA: 0s - loss: 0.0456 - accuracy: 1.0000WARNING:tensorflow:Early stopping conditioned on metric `acc` which is not available. Available metrics are: loss,accuracy,val_loss,val_accuracy\n",
            "9/9 [==============================] - 0s 8ms/step - loss: 0.0612 - accuracy: 0.9894 - val_loss: 0.3776 - val_accuracy: 0.8750\n",
            "Epoch 48/60\n",
            "1/9 [==>...........................] - ETA: 0s - loss: 0.0669 - accuracy: 1.0000WARNING:tensorflow:Early stopping conditioned on metric `acc` which is not available. Available metrics are: loss,accuracy,val_loss,val_accuracy\n",
            "9/9 [==============================] - 0s 9ms/step - loss: 0.0611 - accuracy: 0.9894 - val_loss: 0.3775 - val_accuracy: 0.8750\n",
            "Epoch 49/60\n",
            "1/9 [==>...........................] - ETA: 0s - loss: 0.1002 - accuracy: 0.9688WARNING:tensorflow:Early stopping conditioned on metric `acc` which is not available. Available metrics are: loss,accuracy,val_loss,val_accuracy\n",
            "9/9 [==============================] - 0s 7ms/step - loss: 0.0611 - accuracy: 0.9894 - val_loss: 0.3782 - val_accuracy: 0.8750\n",
            "Epoch 50/60\n",
            "1/9 [==>...........................] - ETA: 0s - loss: 0.0357 - accuracy: 1.0000WARNING:tensorflow:Early stopping conditioned on metric `acc` which is not available. Available metrics are: loss,accuracy,val_loss,val_accuracy\n",
            "9/9 [==============================] - 0s 8ms/step - loss: 0.0609 - accuracy: 0.9894 - val_loss: 0.3781 - val_accuracy: 0.8750\n",
            "Epoch 51/60\n",
            "1/9 [==>...........................] - ETA: 0s - loss: 0.0486 - accuracy: 1.0000WARNING:tensorflow:Early stopping conditioned on metric `acc` which is not available. Available metrics are: loss,accuracy,val_loss,val_accuracy\n",
            "9/9 [==============================] - 0s 7ms/step - loss: 0.0608 - accuracy: 0.9894 - val_loss: 0.3784 - val_accuracy: 0.8750\n",
            "Epoch 52/60\n",
            "1/9 [==>...........................] - ETA: 0s - loss: 0.0446 - accuracy: 1.0000WARNING:tensorflow:Early stopping conditioned on metric `acc` which is not available. Available metrics are: loss,accuracy,val_loss,val_accuracy\n",
            "9/9 [==============================] - 0s 7ms/step - loss: 0.0606 - accuracy: 0.9894 - val_loss: 0.3786 - val_accuracy: 0.8750\n",
            "Epoch 53/60\n",
            "1/9 [==>...........................] - ETA: 0s - loss: 0.0896 - accuracy: 0.9688WARNING:tensorflow:Early stopping conditioned on metric `acc` which is not available. Available metrics are: loss,accuracy,val_loss,val_accuracy\n",
            "9/9 [==============================] - 0s 7ms/step - loss: 0.0605 - accuracy: 0.9894 - val_loss: 0.3782 - val_accuracy: 0.8750\n",
            "Epoch 54/60\n",
            "1/9 [==>...........................] - ETA: 0s - loss: 0.0311 - accuracy: 1.0000WARNING:tensorflow:Early stopping conditioned on metric `acc` which is not available. Available metrics are: loss,accuracy,val_loss,val_accuracy\n",
            "9/9 [==============================] - 0s 7ms/step - loss: 0.0604 - accuracy: 0.9894 - val_loss: 0.3783 - val_accuracy: 0.8750\n",
            "Epoch 55/60\n",
            "1/9 [==>...........................] - ETA: 0s - loss: 0.0261 - accuracy: 1.0000WARNING:tensorflow:Early stopping conditioned on metric `acc` which is not available. Available metrics are: loss,accuracy,val_loss,val_accuracy\n",
            "9/9 [==============================] - 0s 10ms/step - loss: 0.0602 - accuracy: 0.9894 - val_loss: 0.3782 - val_accuracy: 0.8750\n",
            "Epoch 56/60\n",
            "1/9 [==>...........................] - ETA: 0s - loss: 0.0600 - accuracy: 0.9688WARNING:tensorflow:Early stopping conditioned on metric `acc` which is not available. Available metrics are: loss,accuracy,val_loss,val_accuracy\n",
            "9/9 [==============================] - 0s 8ms/step - loss: 0.0601 - accuracy: 0.9894 - val_loss: 0.3786 - val_accuracy: 0.8750\n",
            "Epoch 57/60\n",
            "1/9 [==>...........................] - ETA: 0s - loss: 0.0775 - accuracy: 0.9688WARNING:tensorflow:Early stopping conditioned on metric `acc` which is not available. Available metrics are: loss,accuracy,val_loss,val_accuracy\n",
            "9/9 [==============================] - 0s 7ms/step - loss: 0.0601 - accuracy: 0.9894 - val_loss: 0.3792 - val_accuracy: 0.8750\n",
            "Epoch 58/60\n",
            "1/9 [==>...........................] - ETA: 0s - loss: 0.0573 - accuracy: 1.0000WARNING:tensorflow:Early stopping conditioned on metric `acc` which is not available. Available metrics are: loss,accuracy,val_loss,val_accuracy\n",
            "9/9 [==============================] - 0s 7ms/step - loss: 0.0599 - accuracy: 0.9894 - val_loss: 0.3792 - val_accuracy: 0.8750\n",
            "Epoch 59/60\n",
            "1/9 [==>...........................] - ETA: 0s - loss: 0.0282 - accuracy: 1.0000WARNING:tensorflow:Early stopping conditioned on metric `acc` which is not available. Available metrics are: loss,accuracy,val_loss,val_accuracy\n",
            "9/9 [==============================] - 0s 6ms/step - loss: 0.0597 - accuracy: 0.9894 - val_loss: 0.3789 - val_accuracy: 0.8750\n",
            "Epoch 60/60\n",
            "1/9 [==>...........................] - ETA: 0s - loss: 0.0608 - accuracy: 1.0000WARNING:tensorflow:Early stopping conditioned on metric `acc` which is not available. Available metrics are: loss,accuracy,val_loss,val_accuracy\n",
            "9/9 [==============================] - 0s 7ms/step - loss: 0.0595 - accuracy: 0.9894 - val_loss: 0.3791 - val_accuracy: 0.8750\n"
          ]
        }
      ]
    },
    {
      "cell_type": "code",
      "source": [
        "print(\"Stop at epoch\", len(history2.history['loss']))"
      ],
      "metadata": {
        "colab": {
          "base_uri": "https://localhost:8080/"
        },
        "id": "xjzkK3R9JKw9",
        "outputId": "0e9d24d3-68a9-4fe1-c016-11828cb4b2a2"
      },
      "execution_count": null,
      "outputs": [
        {
          "output_type": "stream",
          "name": "stdout",
          "text": [
            "Stop at epoch 60\n"
          ]
        }
      ]
    },
    {
      "cell_type": "markdown",
      "metadata": {
        "id": "jJUoK10hrPkj"
      },
      "source": [
        "Q8: Any idea of improving the classification accuracy?\n",
        "\n",
        "A8:\n",
        "\n",
        "1.Change batch size and epoch \n",
        "\n",
        "2.Change optimizer\n",
        "\n",
        "3.Increase hidden layers\n",
        "\n",
        "4.Increase neurons \n",
        "\n",
        "5.Change activation function"
      ]
    }
  ]
}