{
  "cells": [
    {
      "cell_type": "markdown",
      "metadata": {
        "id": "qrGKlAJeLSBu"
      },
      "source": [
        "### fasttext\n",
        "\n",
        "https://github.com/facebookresearch/fastText/"
      ]
    },
    {
      "cell_type": "code",
      "execution_count": null,
      "metadata": {
        "colab": {
          "base_uri": "https://localhost:8080/"
        },
        "id": "WbbSb7g0LGdZ",
        "outputId": "bd37a4f6-4260-4321-bf4b-1b2701521d78"
      },
      "outputs": [
        {
          "output_type": "stream",
          "name": "stdout",
          "text": [
            "Looking in indexes: https://pypi.org/simple, https://us-python.pkg.dev/colab-wheels/public/simple/\n",
            "Requirement already satisfied: fasttext in /usr/local/lib/python3.7/dist-packages (0.9.2)\n",
            "Requirement already satisfied: setuptools>=0.7.0 in /usr/local/lib/python3.7/dist-packages (from fasttext) (57.4.0)\n",
            "Requirement already satisfied: pybind11>=2.2 in /usr/local/lib/python3.7/dist-packages (from fasttext) (2.9.2)\n",
            "Requirement already satisfied: numpy in /usr/local/lib/python3.7/dist-packages (from fasttext) (1.21.6)\n"
          ]
        }
      ],
      "source": [
        "!pip install fasttext"
      ]
    },
    {
      "cell_type": "code",
      "execution_count": null,
      "metadata": {
        "id": "6bbxrKb_RMCe"
      },
      "outputs": [],
      "source": [
        "import fasttext"
      ]
    },
    {
      "cell_type": "markdown",
      "metadata": {
        "id": "Ry5BJ25mLsqG"
      },
      "source": [
        "### SMS Spam\n",
        "\n",
        "https://archive.ics.uci.edu/ml/datasets/SMS+Spam+Collection"
      ]
    },
    {
      "cell_type": "code",
      "execution_count": null,
      "metadata": {
        "colab": {
          "base_uri": "https://localhost:8080/"
        },
        "id": "65Q29iErL3Zs",
        "outputId": "ea070f64-8737-472c-bbb2-c9950642da49"
      },
      "outputs": [
        {
          "output_type": "stream",
          "name": "stdout",
          "text": [
            "--2022-05-25 03:40:17--  https://archive.ics.uci.edu/ml/machine-learning-databases/00228/smsspamcollection.zip\n",
            "Resolving archive.ics.uci.edu (archive.ics.uci.edu)... 128.195.10.252\n",
            "Connecting to archive.ics.uci.edu (archive.ics.uci.edu)|128.195.10.252|:443... connected.\n",
            "HTTP request sent, awaiting response... 200 OK\n",
            "Length: 203415 (199K) [application/x-httpd-php]\n",
            "Saving to: ‘smsspamcollection.zip’\n",
            "\n",
            "smsspamcollection.z 100%[===================>] 198.65K   752KB/s    in 0.3s    \n",
            "\n",
            "2022-05-25 03:40:17 (752 KB/s) - ‘smsspamcollection.zip’ saved [203415/203415]\n",
            "\n"
          ]
        }
      ],
      "source": [
        "!wget https://archive.ics.uci.edu/ml/machine-learning-databases/00228/smsspamcollection.zip -O smsspamcollection.zip"
      ]
    },
    {
      "cell_type": "code",
      "execution_count": null,
      "metadata": {
        "colab": {
          "base_uri": "https://localhost:8080/"
        },
        "id": "5QQ7Nw4aL6j9",
        "outputId": "9bd8a59b-aa27-4b9a-abae-1da6fd323a90"
      },
      "outputs": [
        {
          "output_type": "stream",
          "name": "stdout",
          "text": [
            "Archive:  smsspamcollection.zip\n",
            "replace SMSSpamCollection? [y]es, [n]o, [A]ll, [N]one, [r]ename: y\n",
            "  inflating: SMSSpamCollection       \n",
            "replace readme? [y]es, [n]o, [A]ll, [N]one, [r]ename: y\n",
            "  inflating: readme                  \n"
          ]
        }
      ],
      "source": [
        "!unzip smsspamcollection.zip"
      ]
    },
    {
      "cell_type": "code",
      "execution_count": null,
      "metadata": {
        "id": "MeX1RVyiL8Ff"
      },
      "outputs": [],
      "source": [
        "import pandas as pd"
      ]
    },
    {
      "cell_type": "code",
      "execution_count": null,
      "metadata": {
        "id": "Rt4b0mAxMABb"
      },
      "outputs": [],
      "source": [
        "df = pd.read_csv(\"SMSSpamCollection\", delimiter = '\\t', header = None, names = [\"target\",\"SMS\"])"
      ]
    },
    {
      "cell_type": "code",
      "execution_count": null,
      "metadata": {
        "id": "KYPRy_kDMQQc"
      },
      "outputs": [],
      "source": [
        "# All the labels start by the __label__ prefix,\n",
        "# which is how fastText recognize what is a label or what is a word.\n",
        "df.target = \"__label__\" + df.target"
      ]
    },
    {
      "cell_type": "code",
      "execution_count": null,
      "metadata": {
        "colab": {
          "base_uri": "https://localhost:8080/",
          "height": 419
        },
        "id": "J2sqpLi6ScAv",
        "outputId": "0a51351a-d4f7-4147-8e75-79419bdccb1c"
      },
      "outputs": [
        {
          "output_type": "execute_result",
          "data": {
            "text/plain": [
              "             target                                                SMS\n",
              "0      __label__ham  Go until jurong point, crazy.. Available only ...\n",
              "1      __label__ham                      Ok lar... Joking wif u oni...\n",
              "2     __label__spam  Free entry in 2 a wkly comp to win FA Cup fina...\n",
              "3      __label__ham  U dun say so early hor... U c already then say...\n",
              "4      __label__ham  Nah I don't think he goes to usf, he lives aro...\n",
              "...             ...                                                ...\n",
              "5567  __label__spam  This is the 2nd time we have tried 2 contact u...\n",
              "5568   __label__ham               Will ü b going to esplanade fr home?\n",
              "5569   __label__ham  Pity, * was in mood for that. So...any other s...\n",
              "5570   __label__ham  The guy did some bitching but I acted like i'd...\n",
              "5571   __label__ham                         Rofl. Its true to its name\n",
              "\n",
              "[5572 rows x 2 columns]"
            ],
            "text/html": [
              "\n",
              "  <div id=\"df-e1aca033-22e3-4ff5-91c1-50d657510947\">\n",
              "    <div class=\"colab-df-container\">\n",
              "      <div>\n",
              "<style scoped>\n",
              "    .dataframe tbody tr th:only-of-type {\n",
              "        vertical-align: middle;\n",
              "    }\n",
              "\n",
              "    .dataframe tbody tr th {\n",
              "        vertical-align: top;\n",
              "    }\n",
              "\n",
              "    .dataframe thead th {\n",
              "        text-align: right;\n",
              "    }\n",
              "</style>\n",
              "<table border=\"1\" class=\"dataframe\">\n",
              "  <thead>\n",
              "    <tr style=\"text-align: right;\">\n",
              "      <th></th>\n",
              "      <th>target</th>\n",
              "      <th>SMS</th>\n",
              "    </tr>\n",
              "  </thead>\n",
              "  <tbody>\n",
              "    <tr>\n",
              "      <th>0</th>\n",
              "      <td>__label__ham</td>\n",
              "      <td>Go until jurong point, crazy.. Available only ...</td>\n",
              "    </tr>\n",
              "    <tr>\n",
              "      <th>1</th>\n",
              "      <td>__label__ham</td>\n",
              "      <td>Ok lar... Joking wif u oni...</td>\n",
              "    </tr>\n",
              "    <tr>\n",
              "      <th>2</th>\n",
              "      <td>__label__spam</td>\n",
              "      <td>Free entry in 2 a wkly comp to win FA Cup fina...</td>\n",
              "    </tr>\n",
              "    <tr>\n",
              "      <th>3</th>\n",
              "      <td>__label__ham</td>\n",
              "      <td>U dun say so early hor... U c already then say...</td>\n",
              "    </tr>\n",
              "    <tr>\n",
              "      <th>4</th>\n",
              "      <td>__label__ham</td>\n",
              "      <td>Nah I don't think he goes to usf, he lives aro...</td>\n",
              "    </tr>\n",
              "    <tr>\n",
              "      <th>...</th>\n",
              "      <td>...</td>\n",
              "      <td>...</td>\n",
              "    </tr>\n",
              "    <tr>\n",
              "      <th>5567</th>\n",
              "      <td>__label__spam</td>\n",
              "      <td>This is the 2nd time we have tried 2 contact u...</td>\n",
              "    </tr>\n",
              "    <tr>\n",
              "      <th>5568</th>\n",
              "      <td>__label__ham</td>\n",
              "      <td>Will ü b going to esplanade fr home?</td>\n",
              "    </tr>\n",
              "    <tr>\n",
              "      <th>5569</th>\n",
              "      <td>__label__ham</td>\n",
              "      <td>Pity, * was in mood for that. So...any other s...</td>\n",
              "    </tr>\n",
              "    <tr>\n",
              "      <th>5570</th>\n",
              "      <td>__label__ham</td>\n",
              "      <td>The guy did some bitching but I acted like i'd...</td>\n",
              "    </tr>\n",
              "    <tr>\n",
              "      <th>5571</th>\n",
              "      <td>__label__ham</td>\n",
              "      <td>Rofl. Its true to its name</td>\n",
              "    </tr>\n",
              "  </tbody>\n",
              "</table>\n",
              "<p>5572 rows × 2 columns</p>\n",
              "</div>\n",
              "      <button class=\"colab-df-convert\" onclick=\"convertToInteractive('df-e1aca033-22e3-4ff5-91c1-50d657510947')\"\n",
              "              title=\"Convert this dataframe to an interactive table.\"\n",
              "              style=\"display:none;\">\n",
              "        \n",
              "  <svg xmlns=\"http://www.w3.org/2000/svg\" height=\"24px\"viewBox=\"0 0 24 24\"\n",
              "       width=\"24px\">\n",
              "    <path d=\"M0 0h24v24H0V0z\" fill=\"none\"/>\n",
              "    <path d=\"M18.56 5.44l.94 2.06.94-2.06 2.06-.94-2.06-.94-.94-2.06-.94 2.06-2.06.94zm-11 1L8.5 8.5l.94-2.06 2.06-.94-2.06-.94L8.5 2.5l-.94 2.06-2.06.94zm10 10l.94 2.06.94-2.06 2.06-.94-2.06-.94-.94-2.06-.94 2.06-2.06.94z\"/><path d=\"M17.41 7.96l-1.37-1.37c-.4-.4-.92-.59-1.43-.59-.52 0-1.04.2-1.43.59L10.3 9.45l-7.72 7.72c-.78.78-.78 2.05 0 2.83L4 21.41c.39.39.9.59 1.41.59.51 0 1.02-.2 1.41-.59l7.78-7.78 2.81-2.81c.8-.78.8-2.07 0-2.86zM5.41 20L4 18.59l7.72-7.72 1.47 1.35L5.41 20z\"/>\n",
              "  </svg>\n",
              "      </button>\n",
              "      \n",
              "  <style>\n",
              "    .colab-df-container {\n",
              "      display:flex;\n",
              "      flex-wrap:wrap;\n",
              "      gap: 12px;\n",
              "    }\n",
              "\n",
              "    .colab-df-convert {\n",
              "      background-color: #E8F0FE;\n",
              "      border: none;\n",
              "      border-radius: 50%;\n",
              "      cursor: pointer;\n",
              "      display: none;\n",
              "      fill: #1967D2;\n",
              "      height: 32px;\n",
              "      padding: 0 0 0 0;\n",
              "      width: 32px;\n",
              "    }\n",
              "\n",
              "    .colab-df-convert:hover {\n",
              "      background-color: #E2EBFA;\n",
              "      box-shadow: 0px 1px 2px rgba(60, 64, 67, 0.3), 0px 1px 3px 1px rgba(60, 64, 67, 0.15);\n",
              "      fill: #174EA6;\n",
              "    }\n",
              "\n",
              "    [theme=dark] .colab-df-convert {\n",
              "      background-color: #3B4455;\n",
              "      fill: #D2E3FC;\n",
              "    }\n",
              "\n",
              "    [theme=dark] .colab-df-convert:hover {\n",
              "      background-color: #434B5C;\n",
              "      box-shadow: 0px 1px 3px 1px rgba(0, 0, 0, 0.15);\n",
              "      filter: drop-shadow(0px 1px 2px rgba(0, 0, 0, 0.3));\n",
              "      fill: #FFFFFF;\n",
              "    }\n",
              "  </style>\n",
              "\n",
              "      <script>\n",
              "        const buttonEl =\n",
              "          document.querySelector('#df-e1aca033-22e3-4ff5-91c1-50d657510947 button.colab-df-convert');\n",
              "        buttonEl.style.display =\n",
              "          google.colab.kernel.accessAllowed ? 'block' : 'none';\n",
              "\n",
              "        async function convertToInteractive(key) {\n",
              "          const element = document.querySelector('#df-e1aca033-22e3-4ff5-91c1-50d657510947');\n",
              "          const dataTable =\n",
              "            await google.colab.kernel.invokeFunction('convertToInteractive',\n",
              "                                                     [key], {});\n",
              "          if (!dataTable) return;\n",
              "\n",
              "          const docLinkHtml = 'Like what you see? Visit the ' +\n",
              "            '<a target=\"_blank\" href=https://colab.research.google.com/notebooks/data_table.ipynb>data table notebook</a>'\n",
              "            + ' to learn more about interactive tables.';\n",
              "          element.innerHTML = '';\n",
              "          dataTable['output_type'] = 'display_data';\n",
              "          await google.colab.output.renderOutput(dataTable, element);\n",
              "          const docLink = document.createElement('div');\n",
              "          docLink.innerHTML = docLinkHtml;\n",
              "          element.appendChild(docLink);\n",
              "        }\n",
              "      </script>\n",
              "    </div>\n",
              "  </div>\n",
              "  "
            ]
          },
          "metadata": {},
          "execution_count": 8
        }
      ],
      "source": [
        "df"
      ]
    },
    {
      "cell_type": "code",
      "execution_count": null,
      "metadata": {
        "colab": {
          "base_uri": "https://localhost:8080/"
        },
        "id": "15cXVWBhMcbU",
        "outputId": "24075ec5-d341-461e-e310-bc9eee181187"
      },
      "outputs": [
        {
          "output_type": "execute_result",
          "data": {
            "text/plain": [
              "__label__ham     4825\n",
              "__label__spam     747\n",
              "Name: target, dtype: int64"
            ]
          },
          "metadata": {},
          "execution_count": 9
        }
      ],
      "source": [
        "df['target'].value_counts()"
      ]
    },
    {
      "cell_type": "code",
      "execution_count": null,
      "metadata": {
        "id": "l4_DwQrrStRe"
      },
      "outputs": [],
      "source": [
        "df.to_csv(\"smsspam_labeled.train\", index=False, header=False, sep = '\\t')"
      ]
    },
    {
      "cell_type": "code",
      "execution_count": null,
      "metadata": {
        "colab": {
          "base_uri": "https://localhost:8080/"
        },
        "id": "v_MnSV3WTBhg",
        "outputId": "8225d181-d83e-4028-a82c-078afe3a6f39"
      },
      "outputs": [
        {
          "output_type": "stream",
          "name": "stdout",
          "text": [
            "__label__ham\tGo until jurong point, crazy.. Available only in bugis n great world la e buffet... Cine there got amore wat...\n",
            "__label__ham\tOk lar... Joking wif u oni...\n",
            "__label__spam\tFree entry in 2 a wkly comp to win FA Cup final tkts 21st May 2005. Text FA to 87121 to receive entry question(std txt rate)T&C's apply 08452810075over18's\n",
            "__label__ham\tU dun say so early hor... U c already then say...\n",
            "__label__ham\tNah I don't think he goes to usf, he lives around here though\n",
            "__label__spam\tFreeMsg Hey there darling it's been 3 week's now and no word back! I'd like some fun you up for it still? Tb ok! XxX std chgs to send, £1.50 to rcv\n",
            "__label__ham\tEven my brother is not like to speak with me. They treat me like aids patent.\n",
            "__label__ham\tAs per your request 'Melle Melle (Oru Minnaminunginte Nurungu Vettam)' has been set as your callertune for all Callers. Press *9 to copy your friends Callertune\n",
            "__label__spam\tWINNER!! As a valued network customer you have been selected to receivea £900 prize reward! To claim call 09061701461. Claim code KL341. Valid 12 hours only.\n",
            "__label__spam\tHad your mobile 11 months or more? U R entitled to Update to the latest colour mobiles with camera for Free! Call The Mobile Update Co FREE on 08002986030\n"
          ]
        }
      ],
      "source": [
        "!head smsspam_labeled.train"
      ]
    },
    {
      "cell_type": "markdown",
      "metadata": {
        "id": "T-7F-O2iOgGu"
      },
      "source": [
        "### fasttext's supervised learning\n",
        "\n",
        "It directly learns the relation between \"target\" and \"SMS\"."
      ]
    },
    {
      "cell_type": "code",
      "execution_count": null,
      "metadata": {
        "id": "XNPDqs7wQqzo"
      },
      "outputs": [],
      "source": [
        "model = fasttext.train_supervised(input=\"smsspam_labeled.train\")"
      ]
    },
    {
      "cell_type": "code",
      "execution_count": null,
      "metadata": {
        "colab": {
          "base_uri": "https://localhost:8080/"
        },
        "id": "Asl_HIQMQ6vp",
        "outputId": "26c8a14a-1580-4cae-f2dd-fd8e6d9090ae"
      },
      "outputs": [
        {
          "output_type": "stream",
          "name": "stdout",
          "text": [
            "15764\n"
          ]
        }
      ],
      "source": [
        "# It learns words from the training data\n",
        "print(len(model.words))"
      ]
    },
    {
      "cell_type": "code",
      "execution_count": null,
      "metadata": {
        "colab": {
          "base_uri": "https://localhost:8080/",
          "height": 37
        },
        "id": "TMziCEkXURPS",
        "outputId": "28220998-87f7-40f8-83df-16b290603017"
      },
      "outputs": [
        {
          "output_type": "execute_result",
          "data": {
            "text/plain": [
              "'any'"
            ],
            "application/vnd.google.colaboratory.intrinsic+json": {
              "type": "string"
            }
          },
          "metadata": {},
          "execution_count": 14
        }
      ],
      "source": [
        "# randomly print words in its dictionary learned from smsspamcollection.train\n",
        "model.words[100]"
      ]
    },
    {
      "cell_type": "code",
      "execution_count": null,
      "metadata": {
        "colab": {
          "base_uri": "https://localhost:8080/"
        },
        "id": "MH0-CcQDQ-Du",
        "outputId": "5f3ef111-caff-4cff-d55b-aa95578a5d2d"
      },
      "outputs": [
        {
          "output_type": "execute_result",
          "data": {
            "text/plain": [
              "(('__label__ham',), array([0.99998975]))"
            ]
          },
          "metadata": {},
          "execution_count": 15
        }
      ],
      "source": [
        " # We can directly print the prediction result and prob. \n",
        " # from the model by giving a test sentense.\n",
        " model.predict(\"Why not put knives in the dishwasher?\")"
      ]
    },
    {
      "cell_type": "markdown",
      "metadata": {
        "id": "LCyFdVm1Uu46"
      },
      "source": [
        "### Now its your turn\n",
        "\n",
        "The code below is an unsupervised learning that can directly learn the \"embedding\" vector of a word. So that messages can be represented by vectors now (rather than characters). Then, we can apply different kind of ML/DL algorithms to do the spam classification."
      ]
    },
    {
      "cell_type": "code",
      "execution_count": null,
      "metadata": {
        "id": "2Mc-b8dSTnJ4"
      },
      "outputs": [],
      "source": [
        "sms_ser = df.SMS"
      ]
    },
    {
      "cell_type": "code",
      "execution_count": null,
      "metadata": {
        "id": "y59yJ6UsUuUR"
      },
      "outputs": [],
      "source": [
        "sms_ser.to_csv(\"smsspam_nonlabeled.train\", index=False, header=False, sep = '\\t')"
      ]
    },
    {
      "cell_type": "code",
      "execution_count": null,
      "metadata": {
        "colab": {
          "base_uri": "https://localhost:8080/"
        },
        "id": "9m6tDXXtVqxq",
        "outputId": "a1b67856-d221-40e0-cc9d-eae300a15d9c"
      },
      "outputs": [
        {
          "output_type": "stream",
          "name": "stdout",
          "text": [
            "Go until jurong point, crazy.. Available only in bugis n great world la e buffet... Cine there got amore wat...\n",
            "Ok lar... Joking wif u oni...\n",
            "Free entry in 2 a wkly comp to win FA Cup final tkts 21st May 2005. Text FA to 87121 to receive entry question(std txt rate)T&C's apply 08452810075over18's\n",
            "U dun say so early hor... U c already then say...\n",
            "Nah I don't think he goes to usf, he lives around here though\n",
            "FreeMsg Hey there darling it's been 3 week's now and no word back! I'd like some fun you up for it still? Tb ok! XxX std chgs to send, £1.50 to rcv\n",
            "Even my brother is not like to speak with me. They treat me like aids patent.\n",
            "As per your request 'Melle Melle (Oru Minnaminunginte Nurungu Vettam)' has been set as your callertune for all Callers. Press *9 to copy your friends Callertune\n",
            "WINNER!! As a valued network customer you have been selected to receivea £900 prize reward! To claim call 09061701461. Claim code KL341. Valid 12 hours only.\n",
            "Had your mobile 11 months or more? U R entitled to Update to the latest colour mobiles with camera for Free! Call The Mobile Update Co FREE on 08002986030\n"
          ]
        }
      ],
      "source": [
        "!head smsspam_nonlabeled.train"
      ]
    },
    {
      "cell_type": "code",
      "execution_count": null,
      "metadata": {
        "id": "b9_gMJpBVxIH"
      },
      "outputs": [],
      "source": [
        "un_model = fasttext.train_unsupervised(\n",
        "    input=\"smsspam_nonlabeled.train\",\n",
        "    model = 'cbow', # or you can try 'skipgram'\n",
        "    )"
      ]
    },
    {
      "cell_type": "code",
      "execution_count": null,
      "metadata": {
        "colab": {
          "base_uri": "https://localhost:8080/"
        },
        "id": "cBiPV0wKWFp9",
        "outputId": "6248d021-44f3-4e21-c3d5-bdd9bd0ba350"
      },
      "outputs": [
        {
          "output_type": "stream",
          "name": "stdout",
          "text": [
            "2273\n"
          ]
        }
      ],
      "source": [
        "print(len(un_model.words))"
      ]
    },
    {
      "cell_type": "code",
      "execution_count": null,
      "metadata": {
        "colab": {
          "base_uri": "https://localhost:8080/"
        },
        "id": "1Si_3aZeWLfu",
        "outputId": "e2ad3ccd-15dd-42ad-9106-ca6615448418"
      },
      "outputs": [
        {
          "output_type": "stream",
          "name": "stdout",
          "text": [
            "any\n"
          ]
        }
      ],
      "source": [
        "print(un_model.words[100])"
      ]
    },
    {
      "cell_type": "code",
      "execution_count": null,
      "metadata": {
        "colab": {
          "base_uri": "https://localhost:8080/"
        },
        "id": "_HnehtqjWXFO",
        "outputId": "0e0b2d1b-58b0-43f6-82e9-a85ad009692b"
      },
      "outputs": [
        {
          "output_type": "stream",
          "name": "stdout",
          "text": [
            "100\n"
          ]
        }
      ],
      "source": [
        "print(un_model.dim)"
      ]
    },
    {
      "cell_type": "code",
      "execution_count": null,
      "metadata": {
        "colab": {
          "base_uri": "https://localhost:8080/"
        },
        "id": "WyDt-ZHZWO5u",
        "outputId": "3192bf8f-bd4c-429d-eb7c-ea170e9685e5"
      },
      "outputs": [
        {
          "output_type": "execute_result",
          "data": {
            "text/plain": [
              "array([-4.8379369e-02,  4.0351787e-01, -1.8146807e-01, -7.6041713e-02,\n",
              "       -4.8599493e-02,  2.2118923e-01, -3.9146864e-01,  3.0590767e-01,\n",
              "        4.3218717e-01,  1.5183234e-01,  4.7383332e-01,  6.1485428e-01,\n",
              "       -3.7266783e-02,  2.6028290e-01, -1.7201993e-01,  2.6691583e-01,\n",
              "       -6.7612439e-02,  6.7743704e-02, -9.9113202e-03, -1.6661745e-01,\n",
              "        5.7083106e-01,  5.5543661e-01,  9.3855999e-02, -5.9484936e-02,\n",
              "       -1.1230737e-01, -1.5307558e-01,  3.0640936e-01,  2.2092225e-01,\n",
              "        1.4178853e-01,  1.9295519e-02, -2.5307888e-01, -5.3514457e-01,\n",
              "        1.2721060e-01, -4.7318959e-01, -5.8492893e-01, -1.5906768e-02,\n",
              "       -1.3793422e-01, -9.8063461e-02, -3.5288972e-01, -7.1064509e-02,\n",
              "       -4.3568615e-02,  6.6583741e-01, -2.8861520e-01,  3.4037146e-01,\n",
              "        4.4464889e-01,  3.1487178e-02, -6.5514773e-02,  5.9754455e-01,\n",
              "       -4.5798975e-03, -1.9676116e-01, -1.2605423e-01,  1.4949475e-01,\n",
              "        5.6304364e-03,  4.7404107e-02, -1.6983050e-01,  5.5973511e-02,\n",
              "       -6.4040206e-02, -2.3479089e-01,  2.0814249e-01,  5.7541490e-01,\n",
              "       -3.3258760e-04,  2.9093808e-01,  6.5901828e-01,  2.7244949e-01,\n",
              "       -4.1113451e-01,  2.5047141e-01,  2.0586342e-01,  3.8936445e-01,\n",
              "       -2.4176796e-01, -7.2254203e-02, -3.0144250e-01, -2.3826854e-01,\n",
              "       -3.1102276e-01,  4.4303283e-02, -1.2927811e-01, -5.5195697e-02,\n",
              "        5.3816360e-01,  1.6139193e-02,  2.0988487e-01,  5.7964467e-02,\n",
              "       -4.6641400e-01,  1.6140054e-01,  4.5134377e-01,  1.8255563e-01,\n",
              "        3.9777750e-01, -1.9573759e-01,  1.7027910e-01,  5.7550508e-01,\n",
              "       -5.2042711e-01, -2.6326269e-01,  6.2327045e-01,  3.9378092e-02,\n",
              "        9.5471984e-01, -2.9722592e-01, -1.8479894e-01, -4.4195822e-01,\n",
              "        4.7348893e-01,  1.6789757e-01, -3.0285475e-01, -2.1708600e-01],\n",
              "      dtype=float32)"
            ]
          },
          "metadata": {},
          "execution_count": 23
        }
      ],
      "source": [
        "un_model.get_word_vector('any')"
      ]
    },
    {
      "cell_type": "markdown",
      "metadata": {
        "id": "IL5Mp3VrWdf9"
      },
      "source": [
        "Now, your unsupervised embedding is created. Each word can be represented as a 100-dim vectoer.\n",
        "\n",
        "See more: https://fasttext.cc/docs/en/python-module.html#train_unsupervised-parameters\n",
        "\n",
        "Show us how do you create a NN-based classifier for SMS SPAM detector."
      ]
    },
    {
      "cell_type": "markdown",
      "metadata": {
        "id": "a3948Kk7Xjcv"
      },
      "source": [
        "Do not forget this!\n",
        "\n",
        "1.   You MUST design TWO neural network models: one with an AutoEncoder and another without AE. Show us which one is better.\n",
        "2.   You MUST apply ONE ML classifier and show us NN is better or not.\n"
      ]
    },
    {
      "cell_type": "markdown",
      "source": [
        "# Neural Network with autoencoder"
      ],
      "metadata": {
        "id": "UPc1AzIz-oI7"
      }
    },
    {
      "cell_type": "code",
      "source": [
        "from tensorflow import keras\n",
        "from keras import layers, losses\n",
        "from keras.models import Model"
      ],
      "metadata": {
        "id": "qZTVGH5wGvh_"
      },
      "execution_count": null,
      "outputs": []
    },
    {
      "cell_type": "code",
      "source": [
        "class AutoEncoder(Model):\n",
        "    def __init__(self):\n",
        "        super(AutoEncoder, self).__init__()\n",
        "        self.flatten_layer = layers.Flatten()\n",
        "        self.dense1 = layers.Dense(64, activation='relu')\n",
        "        self.dense2 = layers.Dense(32, activation='relu')\n",
        "        \n",
        "        \n",
        "        self.bottleneck = layers.Dense(16, activation='relu')\n",
        "    \n",
        "        self.dense4 = layers.Dense(32, activation='relu')\n",
        "        self.dense5 = layers.Dense(64, activation='relu')\n",
        "        \n",
        "        self.dense_final = layers.Dense(100)\n",
        "        \n",
        "    \n",
        "    def call(self, inp):\n",
        "        x_reshaped = self.flatten_layer(inp)\n",
        "        x = self.dense1(x_reshaped)\n",
        "        x = self.dense2(x)\n",
        "        x = self.bottleneck(x)\n",
        "        x = self.dense4(x)\n",
        "        x = self.dense5(x)\n",
        "        x = self.dense_final(x)\n",
        "        return x, x_reshaped"
      ],
      "metadata": {
        "id": "DMfw3sgrH2jM"
      },
      "execution_count": null,
      "outputs": []
    },
    {
      "cell_type": "code",
      "source": [
        "autoencoder = AutoEncoder()\n",
        "autoencoder.compile(optimizer='adam', loss=losses.MeanSquaredError(), metrics=[\"accuracy\"])\n",
        "history_auto = autoencoder.fit(un_model.get_input_matrix(), un_model.get_input_matrix(), epochs=5, shuffle=True, validation_split=0.2)"
      ],
      "metadata": {
        "colab": {
          "base_uri": "https://localhost:8080/"
        },
        "id": "wdUR4wy9JQwb",
        "outputId": "29a9c87a-d61c-4a71-c338-e22114dcef0f"
      },
      "execution_count": null,
      "outputs": [
        {
          "output_type": "stream",
          "name": "stdout",
          "text": [
            "Epoch 1/5\n",
            "50057/50057 [==============================] - 157s 3ms/step - loss: 6.1775e-06 - output_1_loss: 6.1775e-06 - output_2_loss: 0.0000e+00 - output_1_accuracy: 0.0227 - output_2_accuracy: 1.0000 - val_loss: 1.9789e-07 - val_output_1_loss: 1.9789e-07 - val_output_2_loss: 0.0000e+00 - val_output_1_accuracy: 0.0088 - val_output_2_accuracy: 1.0000\n",
            "Epoch 2/5\n",
            "50057/50057 [==============================] - 150s 3ms/step - loss: 4.8856e-06 - output_1_loss: 4.8856e-06 - output_2_loss: 0.0000e+00 - output_1_accuracy: 0.0215 - output_2_accuracy: 1.0000 - val_loss: 1.9712e-07 - val_output_1_loss: 1.9712e-07 - val_output_2_loss: 0.0000e+00 - val_output_1_accuracy: 0.0088 - val_output_2_accuracy: 1.0000\n",
            "Epoch 3/5\n",
            "50057/50057 [==============================] - 149s 3ms/step - loss: 4.8126e-06 - output_1_loss: 4.8126e-06 - output_2_loss: 0.0000e+00 - output_1_accuracy: 0.0227 - output_2_accuracy: 1.0000 - val_loss: 1.9900e-07 - val_output_1_loss: 1.9900e-07 - val_output_2_loss: 0.0000e+00 - val_output_1_accuracy: 0.0088 - val_output_2_accuracy: 1.0000\n",
            "Epoch 4/5\n",
            "50057/50057 [==============================] - 151s 3ms/step - loss: 4.6916e-06 - output_1_loss: 4.6916e-06 - output_2_loss: 0.0000e+00 - output_1_accuracy: 0.0207 - output_2_accuracy: 1.0000 - val_loss: 1.5145e-07 - val_output_1_loss: 1.5145e-07 - val_output_2_loss: 0.0000e+00 - val_output_1_accuracy: 0.0088 - val_output_2_accuracy: 1.0000\n",
            "Epoch 5/5\n",
            "50057/50057 [==============================] - 141s 3ms/step - loss: 4.5803e-06 - output_1_loss: 4.5803e-06 - output_2_loss: 0.0000e+00 - output_1_accuracy: 0.0209 - output_2_accuracy: 1.0000 - val_loss: 1.7001e-07 - val_output_1_loss: 1.7001e-07 - val_output_2_loss: 0.0000e+00 - val_output_1_accuracy: 0.0088 - val_output_2_accuracy: 1.0000\n"
          ]
        }
      ]
    },
    {
      "cell_type": "code",
      "source": [
        "predict=autoencoder.predict(un_model.get_output_matrix())"
      ],
      "metadata": {
        "id": "G86JCxa-Y3mU"
      },
      "execution_count": null,
      "outputs": []
    },
    {
      "cell_type": "code",
      "source": [
        "import numpy as np\n",
        "arr=np.asarray(predict)\n",
        "arr.shape"
      ],
      "metadata": {
        "colab": {
          "base_uri": "https://localhost:8080/"
        },
        "id": "XHJYi-SRaI4S",
        "outputId": "b730692c-3ccb-4bf0-a4e5-d279f40134ef"
      },
      "execution_count": null,
      "outputs": [
        {
          "output_type": "execute_result",
          "data": {
            "text/plain": [
              "(2, 2273, 100)"
            ]
          },
          "metadata": {},
          "execution_count": 36
        }
      ]
    },
    {
      "cell_type": "code",
      "source": [
        "NN_auto = keras.Sequential([\n",
        "      layers.Flatten(),\n",
        "      layers.Dense(128, activation='relu'),\n",
        "      layers.Dense(128, activation='relu'),\n",
        "      layers.Dense(1, activation='relu'),\n",
        "    ])"
      ],
      "metadata": {
        "id": "XZhBjPo5bkOo"
      },
      "execution_count": null,
      "outputs": []
    },
    {
      "cell_type": "code",
      "source": [
        "NN_auto.compile(optimizer=\"adam\", loss=losses.BinaryCrossentropy(from_logits=True))"
      ],
      "metadata": {
        "id": "ZgIiKhj2btcL"
      },
      "execution_count": null,
      "outputs": []
    },
    {
      "cell_type": "code",
      "source": [
        "y = np.array(list(map(lambda target: 1 if target==\"__label__ham\" else 0, df.target)), dtype=np.float32)\n",
        "nn.fit(arr,)"
      ],
      "metadata": {
        "colab": {
          "base_uri": "https://localhost:8080/"
        },
        "id": "8uWzJnGGb7Ll",
        "outputId": "9dfc38c2-99db-4ee4-8c80-b5b392c192c6"
      },
      "execution_count": null,
      "outputs": [
        {
          "output_type": "execute_result",
          "data": {
            "text/plain": [
              "(5572,)"
            ]
          },
          "metadata": {},
          "execution_count": 56
        }
      ]
    },
    {
      "cell_type": "markdown",
      "source": [
        "# Neural Network"
      ],
      "metadata": {
        "id": "JZaXvlsp5vUL"
      }
    },
    {
      "cell_type": "code",
      "source": [
        "nn= keras.Sequential([\n",
        "      layers.Flatten(),\n",
        "      layers.Dense(64, activation='relu'),\n",
        "      layers.Dense(64, activation='relu'),\n",
        "      layers.Dense(1, activation='softmax'),\n",
        "    ])"
      ],
      "metadata": {
        "id": "4uyYWdXiPMfF"
      },
      "execution_count": null,
      "outputs": []
    },
    {
      "cell_type": "code",
      "source": [
        "nn.compile(optimizer='adam',loss = losses.SparseCategoricalCrossentropy(from_logits=True), metrics=['accuracy'])"
      ],
      "metadata": {
        "id": "TbPb4ZXISS4X"
      },
      "execution_count": null,
      "outputs": []
    },
    {
      "cell_type": "code",
      "source": [
        "un_model.get_input_matrix().shape"
      ],
      "metadata": {
        "colab": {
          "base_uri": "https://localhost:8080/"
        },
        "id": "KoFEm-gdluxv",
        "outputId": "7342db2a-70aa-493c-87ab-3a28e196a739"
      },
      "execution_count": null,
      "outputs": [
        {
          "output_type": "execute_result",
          "data": {
            "text/plain": [
              "(2002273, 100)"
            ]
          },
          "metadata": {},
          "execution_count": 63
        }
      ]
    },
    {
      "cell_type": "code",
      "source": [
        "un_model.get_output_matrix().shape"
      ],
      "metadata": {
        "colab": {
          "base_uri": "https://localhost:8080/"
        },
        "id": "fDL62QK5l3s7",
        "outputId": "cfa77db5-9c78-4cd6-d09b-66cb41fcd6df"
      },
      "execution_count": null,
      "outputs": [
        {
          "output_type": "execute_result",
          "data": {
            "text/plain": [
              "(2273, 100)"
            ]
          },
          "metadata": {},
          "execution_count": 64
        }
      ]
    },
    {
      "cell_type": "markdown",
      "source": [
        "# ML classifier"
      ],
      "metadata": {
        "id": "Xzv1z8v6GpIl"
      }
    }
  ],
  "metadata": {
    "colab": {
      "collapsed_sections": [],
      "name": "「H-SMSSpam.ipynb」的副本",
      "provenance": [],
      "toc_visible": true
    },
    "kernelspec": {
      "display_name": "Python 3",
      "name": "python3"
    },
    "language_info": {
      "name": "python"
    }
  },
  "nbformat": 4,
  "nbformat_minor": 0
}